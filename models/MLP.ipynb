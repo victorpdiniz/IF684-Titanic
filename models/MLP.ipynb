{
  "cells": [
    {
      "cell_type": "markdown",
      "metadata": {
        "id": "hP6Nh_Q07U4e"
      },
      "source": [
        "# **Mini-Projeto MLP**\n",
        "---"
      ]
    },
    {
      "cell_type": "markdown",
      "metadata": {
        "id": "qzCXZYaqxx0Q"
      },
      "source": [
        "Este mini-projeto tem como objetivo construir modelos preditivos para estimar a sobrevivência dos passageiros do Titanic utilizando Redes Neurais baseadas em Multilayer Perceptron (MLP). O naufrágio do Titanic é um dos desastres marítimos mais infames da história, e a análise dos dados dos passageiros fornece uma rica base para explorar técnicas de aprendizado de máquina.\n",
        "\n",
        "**Objetivos:**\n",
        "- Pré-processar os dados do Titanic para torná-los adequados para treinamento de modelos de aprendizado de máquina.\n",
        "- Construir e treinar Redes Neurais baseadas em Multilayer Perceptron (MLP) para prever a sobrevivência dos passageiros.\n",
        "- Avaliar o desempenho dos modelos utilizando métricas adequadas e ajustar hiperparâmetros para otimização.\n",
        "\n",
        "**Metodologia:**\n",
        "1. **Coleta e Exploração de Dados:** Carregamento e análise inicial dos dados para entender a distribuição e características principais.\n",
        "2. **Pré-processamento de Dados:** Tratamento de valores ausentes, codificação de variáveis categóricas e normalização dos dados.\n",
        "3. **Construção do Modelo MLP:** Definição das arquiteturas das redes neurais e configuração dos hiperparâmetros.\n",
        "4. **Treinamento e Avaliação:** Treinamento dos modelos nos dados de treinamento e avaliação de seus desempenhos nos dados de teste.\n",
        "\n",
        "**Grupo:**\n",
        "* Cleber Victor da Silva Junior (cvsj)   \n",
        "* João Marcelo de Souza Ferreira (jmsf3)\n",
        "* Marcela Arruda Asfora (maa5)\n",
        "* Maria Vitória Soares Muniz (mvsm3)\n",
        "* Victor Pessoa Diniz (vpd)"
      ]
    },
    {
      "cell_type": "markdown",
      "metadata": {
        "id": "XyjqVbd8FHbU"
      },
      "source": [
        "## **Bibliotecas Utilizadas**\n",
        "---"
      ]
    },
    {
      "cell_type": "markdown",
      "metadata": {
        "id": "bblzA75n74si"
      },
      "source": [
        "Neste projeto, utilizamos diversas bibliotecas do ecossistema Python para análise de dados e visualização:\n",
        "\n",
        "- **NumPy:** Biblioteca fundamental para computação numérica em Python, utilizada para manipulação de arrays e operações matemáticas eficientes.\n",
        "- **Pandas:** Biblioteca poderosa para análise e manipulação de dados, especialmente útil para trabalhar com dados tabulares. Utilizamos Pandas para carregar, limpar e transformar os dados do Titanic.\n",
        "- **Seaborn:** Biblioteca de visualização de dados baseada no Matplotlib, que proporciona gráficos estatísticos atraentes e informativos. Utilizamos Seaborn para criar visualizações que ajudam a entender melhor os padrões e características dos dados.\n",
        "- **Matplotlib:** Biblioteca de plotagem 2D que serve como base para o Seaborn, utilizada diretamente para personalizar e criar gráficos detalhados.\n",
        "- **Scikit-learn:** Biblioteca modular que contém os modelos de treinamento necessários para a atividade. Utilizada para o treinamento das Redes Neurais baseadas em MLP.\n",
        "\n",
        "Essas bibliotecas, quando combinadas, fornecem um conjunto robusto de ferramentas para a análise de dados e a construção de modelos preditivos."
      ]
    },
    {
      "cell_type": "code",
      "execution_count": null,
      "metadata": {
        "id": "piEUpaNbE_bS"
      },
      "outputs": [],
      "source": [
        "import numpy as np\n",
        "import pandas as pd\n",
        "import seaborn as sns\n",
        "from matplotlib import pyplot as plt\n",
        "from sklearn.neural_network import MLPClassifier\n",
        "from sklearn.model_selection import train_test_split\n",
        "from sklearn.metrics import accuracy_score, f1_score, confusion_matrix, precision_score, recall_score"
      ]
    },
    {
      "cell_type": "markdown",
      "metadata": {
        "id": "0xWY3oSpAC2d"
      },
      "source": [
        "## **Base de Dados**\n",
        "---"
      ]
    },
    {
      "cell_type": "markdown",
      "metadata": {
        "id": "bMA7qowV8Xpr"
      },
      "source": [
        "O dataset \"Titanic - Machine Learning from Disaster\" é um conjunto de dados clássico amplamente utilizado para o ensino e prática de técnicas de aprendizado de máquina. Ele contém informações detalhadas sobre os passageiros a bordo do RMS Titanic, que naufragou em sua viagem inaugural em 1912. O dataset inclui variáveis como idade, gênero, classe de cabine, tarifa paga, número de parentes a bordo, entre outras. A variável alvo é `Survived`, que indica se um passageiro sobreviveu ao desastre. Este conjunto de dados é ideal para explorar métodos de análise de dados, visualização, e construção de modelos preditivos, fornecendo uma rica base para entender como diferentes características podem influenciar a probabilidade de sobrevivência."
      ]
    },
    {
      "cell_type": "code",
      "execution_count": null,
      "metadata": {
        "colab": {
          "base_uri": "https://localhost:8080/"
        },
        "id": "CjIw2IMP8_6T",
        "outputId": "66ffa947-45d4-46fb-ffba-b36fe301479a"
      },
      "outputs": [
        {
          "output_type": "stream",
          "name": "stdout",
          "text": [
            "Cloning into 'Titanic-MLP'...\n",
            "remote: Enumerating objects: 9, done.\u001b[K\n",
            "remote: Counting objects: 100% (9/9), done.\u001b[K\n",
            "remote: Compressing objects: 100% (7/7), done.\u001b[K\n",
            "remote: Total 9 (delta 0), reused 6 (delta 0), pack-reused 0\u001b[K\n",
            "Receiving objects: 100% (9/9), 34.33 KiB | 857.00 KiB/s, done.\n"
          ]
        }
      ],
      "source": [
        "!git clone https://github.com/mariavmuniz/Titanic-MLP.git"
      ]
    },
    {
      "cell_type": "code",
      "execution_count": null,
      "metadata": {
        "id": "PJuXm4sut7jz"
      },
      "outputs": [],
      "source": [
        "test_set = pd.read_csv('Titanic-MLP/data/test.csv')\n",
        "train_set = pd.read_csv('Titanic-MLP/data/train.csv')"
      ]
    },
    {
      "cell_type": "markdown",
      "metadata": {
        "id": "eOffOtgE7sI6"
      },
      "source": [
        "## **Análise Exploratória**\n",
        "---"
      ]
    },
    {
      "cell_type": "markdown",
      "metadata": {
        "id": "bxFIAxOH3klX"
      },
      "source": [
        "A análise exploratória dos dados é uma fase inicial que resume as principais características dos dados usando métodos visuais e estatísticos. Seu objetivo é compreender a estrutura dos dados, detectar padrões, identificar anomalias e verificar pressupostos, orientando o desenvolvimento de modelos preditivos. Nesta análise, abordaremos os seguintes tópicos: **Organização da Base de Dados**, **Correlação** e **Dados Faltantes e Outliers**."
      ]
    },
    {
      "cell_type": "markdown",
      "metadata": {
        "id": "7_4EUkChFpLb"
      },
      "source": [
        "### **Organização da Base de Dados**"
      ]
    },
    {
      "cell_type": "markdown",
      "metadata": {
        "id": "9A4PkBHuF4Uu"
      },
      "source": [
        "A base de dados  possui 891 linhas (cada linha representa um passageiro) e 12 colunas (cada coluna contém um atributo do passageiro, como identificador, idade, classe social, etc.). Na lista abaixo, estão todos os detalhes das colunas:\n",
        "\n",
        "* **`PassengerId`:** Identificador único de cada passageiro (valores inteiros, sem valores ausentes).\n",
        "* **`Survived`:** Indica se o passageiro sobreviveu ou não (valores inteiros: `1` para sobreviveu, `0` para não sobreviveu).\n",
        "* **`Pclass`:** Classe social do passageiro (valores inteiros: `1` para primeira classe, `2` para segunda classe, `3` para terceira classe).\n",
        "* **`Name`:** Nome completo do passageiro (valores de texto).\n",
        "* **`Sex`:** Sexo do passageiro (valores de texto: `'male'` para masculino, `'female'` para feminino).\n",
        "* **`Age`:** Idade do passageiro em anos (valores decimais, com alguns valores ausentes).\n",
        "* **`SibSp`:** Número de irmãos e cônjuge a bordo (valores inteiros).\n",
        "* **`Parch`:** Número de pais e filhos a bordo (valores inteiros).\n",
        "* **`Ticket`:** Número do bilhete do passageiro (valores de texto).\n",
        "* **`Fare`:** Tarifa paga pelo passageiro (valores decimais).\n",
        "* **`Cabin`:** Número da cabine do passageiro (valores de texto, com muitos valores ausentes).\n",
        "* **`Embarked`:** Porto de embarque do passageiro (valores de texto: `'S'` para Southampton, `'C'` para Cherbourg, `'Q'` para Queenstown).\n",
        "\n",
        "\n",
        "\n"
      ]
    },
    {
      "cell_type": "code",
      "execution_count": null,
      "metadata": {
        "colab": {
          "base_uri": "https://localhost:8080/"
        },
        "id": "odG5liqYIU8k",
        "outputId": "8c6b30e5-0d8b-4e99-b33b-92bce4d9d846"
      },
      "outputs": [
        {
          "output_type": "execute_result",
          "data": {
            "text/plain": [
              "(891, 12)"
            ]
          },
          "metadata": {},
          "execution_count": 4
        }
      ],
      "source": [
        "train_set.shape"
      ]
    },
    {
      "cell_type": "code",
      "execution_count": null,
      "metadata": {
        "colab": {
          "base_uri": "https://localhost:8080/",
          "height": 206
        },
        "id": "oyX5SraVEiZ6",
        "outputId": "ce97b488-602c-48de-cfdd-4de76a673ff4"
      },
      "outputs": [
        {
          "output_type": "execute_result",
          "data": {
            "text/plain": [
              "   PassengerId  Survived  Pclass  \\\n",
              "0            1         0       3   \n",
              "1            2         1       1   \n",
              "2            3         1       3   \n",
              "3            4         1       1   \n",
              "4            5         0       3   \n",
              "\n",
              "                                                Name     Sex   Age  SibSp  \\\n",
              "0                            Braund, Mr. Owen Harris    male  22.0      1   \n",
              "1  Cumings, Mrs. John Bradley (Florence Briggs Th...  female  38.0      1   \n",
              "2                             Heikkinen, Miss. Laina  female  26.0      0   \n",
              "3       Futrelle, Mrs. Jacques Heath (Lily May Peel)  female  35.0      1   \n",
              "4                           Allen, Mr. William Henry    male  35.0      0   \n",
              "\n",
              "   Parch            Ticket     Fare Cabin Embarked  \n",
              "0      0         A/5 21171   7.2500   NaN        S  \n",
              "1      0          PC 17599  71.2833   C85        C  \n",
              "2      0  STON/O2. 3101282   7.9250   NaN        S  \n",
              "3      0            113803  53.1000  C123        S  \n",
              "4      0            373450   8.0500   NaN        S  "
            ],
            "text/html": [
              "\n",
              "  <div id=\"df-914c3627-f5c3-4730-9909-233de7802237\" class=\"colab-df-container\">\n",
              "    <div>\n",
              "<style scoped>\n",
              "    .dataframe tbody tr th:only-of-type {\n",
              "        vertical-align: middle;\n",
              "    }\n",
              "\n",
              "    .dataframe tbody tr th {\n",
              "        vertical-align: top;\n",
              "    }\n",
              "\n",
              "    .dataframe thead th {\n",
              "        text-align: right;\n",
              "    }\n",
              "</style>\n",
              "<table border=\"1\" class=\"dataframe\">\n",
              "  <thead>\n",
              "    <tr style=\"text-align: right;\">\n",
              "      <th></th>\n",
              "      <th>PassengerId</th>\n",
              "      <th>Survived</th>\n",
              "      <th>Pclass</th>\n",
              "      <th>Name</th>\n",
              "      <th>Sex</th>\n",
              "      <th>Age</th>\n",
              "      <th>SibSp</th>\n",
              "      <th>Parch</th>\n",
              "      <th>Ticket</th>\n",
              "      <th>Fare</th>\n",
              "      <th>Cabin</th>\n",
              "      <th>Embarked</th>\n",
              "    </tr>\n",
              "  </thead>\n",
              "  <tbody>\n",
              "    <tr>\n",
              "      <th>0</th>\n",
              "      <td>1</td>\n",
              "      <td>0</td>\n",
              "      <td>3</td>\n",
              "      <td>Braund, Mr. Owen Harris</td>\n",
              "      <td>male</td>\n",
              "      <td>22.0</td>\n",
              "      <td>1</td>\n",
              "      <td>0</td>\n",
              "      <td>A/5 21171</td>\n",
              "      <td>7.2500</td>\n",
              "      <td>NaN</td>\n",
              "      <td>S</td>\n",
              "    </tr>\n",
              "    <tr>\n",
              "      <th>1</th>\n",
              "      <td>2</td>\n",
              "      <td>1</td>\n",
              "      <td>1</td>\n",
              "      <td>Cumings, Mrs. John Bradley (Florence Briggs Th...</td>\n",
              "      <td>female</td>\n",
              "      <td>38.0</td>\n",
              "      <td>1</td>\n",
              "      <td>0</td>\n",
              "      <td>PC 17599</td>\n",
              "      <td>71.2833</td>\n",
              "      <td>C85</td>\n",
              "      <td>C</td>\n",
              "    </tr>\n",
              "    <tr>\n",
              "      <th>2</th>\n",
              "      <td>3</td>\n",
              "      <td>1</td>\n",
              "      <td>3</td>\n",
              "      <td>Heikkinen, Miss. Laina</td>\n",
              "      <td>female</td>\n",
              "      <td>26.0</td>\n",
              "      <td>0</td>\n",
              "      <td>0</td>\n",
              "      <td>STON/O2. 3101282</td>\n",
              "      <td>7.9250</td>\n",
              "      <td>NaN</td>\n",
              "      <td>S</td>\n",
              "    </tr>\n",
              "    <tr>\n",
              "      <th>3</th>\n",
              "      <td>4</td>\n",
              "      <td>1</td>\n",
              "      <td>1</td>\n",
              "      <td>Futrelle, Mrs. Jacques Heath (Lily May Peel)</td>\n",
              "      <td>female</td>\n",
              "      <td>35.0</td>\n",
              "      <td>1</td>\n",
              "      <td>0</td>\n",
              "      <td>113803</td>\n",
              "      <td>53.1000</td>\n",
              "      <td>C123</td>\n",
              "      <td>S</td>\n",
              "    </tr>\n",
              "    <tr>\n",
              "      <th>4</th>\n",
              "      <td>5</td>\n",
              "      <td>0</td>\n",
              "      <td>3</td>\n",
              "      <td>Allen, Mr. William Henry</td>\n",
              "      <td>male</td>\n",
              "      <td>35.0</td>\n",
              "      <td>0</td>\n",
              "      <td>0</td>\n",
              "      <td>373450</td>\n",
              "      <td>8.0500</td>\n",
              "      <td>NaN</td>\n",
              "      <td>S</td>\n",
              "    </tr>\n",
              "  </tbody>\n",
              "</table>\n",
              "</div>\n",
              "    <div class=\"colab-df-buttons\">\n",
              "\n",
              "  <div class=\"colab-df-container\">\n",
              "    <button class=\"colab-df-convert\" onclick=\"convertToInteractive('df-914c3627-f5c3-4730-9909-233de7802237')\"\n",
              "            title=\"Convert this dataframe to an interactive table.\"\n",
              "            style=\"display:none;\">\n",
              "\n",
              "  <svg xmlns=\"http://www.w3.org/2000/svg\" height=\"24px\" viewBox=\"0 -960 960 960\">\n",
              "    <path d=\"M120-120v-720h720v720H120Zm60-500h600v-160H180v160Zm220 220h160v-160H400v160Zm0 220h160v-160H400v160ZM180-400h160v-160H180v160Zm440 0h160v-160H620v160ZM180-180h160v-160H180v160Zm440 0h160v-160H620v160Z\"/>\n",
              "  </svg>\n",
              "    </button>\n",
              "\n",
              "  <style>\n",
              "    .colab-df-container {\n",
              "      display:flex;\n",
              "      gap: 12px;\n",
              "    }\n",
              "\n",
              "    .colab-df-convert {\n",
              "      background-color: #E8F0FE;\n",
              "      border: none;\n",
              "      border-radius: 50%;\n",
              "      cursor: pointer;\n",
              "      display: none;\n",
              "      fill: #1967D2;\n",
              "      height: 32px;\n",
              "      padding: 0 0 0 0;\n",
              "      width: 32px;\n",
              "    }\n",
              "\n",
              "    .colab-df-convert:hover {\n",
              "      background-color: #E2EBFA;\n",
              "      box-shadow: 0px 1px 2px rgba(60, 64, 67, 0.3), 0px 1px 3px 1px rgba(60, 64, 67, 0.15);\n",
              "      fill: #174EA6;\n",
              "    }\n",
              "\n",
              "    .colab-df-buttons div {\n",
              "      margin-bottom: 4px;\n",
              "    }\n",
              "\n",
              "    [theme=dark] .colab-df-convert {\n",
              "      background-color: #3B4455;\n",
              "      fill: #D2E3FC;\n",
              "    }\n",
              "\n",
              "    [theme=dark] .colab-df-convert:hover {\n",
              "      background-color: #434B5C;\n",
              "      box-shadow: 0px 1px 3px 1px rgba(0, 0, 0, 0.15);\n",
              "      filter: drop-shadow(0px 1px 2px rgba(0, 0, 0, 0.3));\n",
              "      fill: #FFFFFF;\n",
              "    }\n",
              "  </style>\n",
              "\n",
              "    <script>\n",
              "      const buttonEl =\n",
              "        document.querySelector('#df-914c3627-f5c3-4730-9909-233de7802237 button.colab-df-convert');\n",
              "      buttonEl.style.display =\n",
              "        google.colab.kernel.accessAllowed ? 'block' : 'none';\n",
              "\n",
              "      async function convertToInteractive(key) {\n",
              "        const element = document.querySelector('#df-914c3627-f5c3-4730-9909-233de7802237');\n",
              "        const dataTable =\n",
              "          await google.colab.kernel.invokeFunction('convertToInteractive',\n",
              "                                                    [key], {});\n",
              "        if (!dataTable) return;\n",
              "\n",
              "        const docLinkHtml = 'Like what you see? Visit the ' +\n",
              "          '<a target=\"_blank\" href=https://colab.research.google.com/notebooks/data_table.ipynb>data table notebook</a>'\n",
              "          + ' to learn more about interactive tables.';\n",
              "        element.innerHTML = '';\n",
              "        dataTable['output_type'] = 'display_data';\n",
              "        await google.colab.output.renderOutput(dataTable, element);\n",
              "        const docLink = document.createElement('div');\n",
              "        docLink.innerHTML = docLinkHtml;\n",
              "        element.appendChild(docLink);\n",
              "      }\n",
              "    </script>\n",
              "  </div>\n",
              "\n",
              "\n",
              "<div id=\"df-324d803c-42d2-4ebf-b5c2-17419987dcd9\">\n",
              "  <button class=\"colab-df-quickchart\" onclick=\"quickchart('df-324d803c-42d2-4ebf-b5c2-17419987dcd9')\"\n",
              "            title=\"Suggest charts\"\n",
              "            style=\"display:none;\">\n",
              "\n",
              "<svg xmlns=\"http://www.w3.org/2000/svg\" height=\"24px\"viewBox=\"0 0 24 24\"\n",
              "     width=\"24px\">\n",
              "    <g>\n",
              "        <path d=\"M19 3H5c-1.1 0-2 .9-2 2v14c0 1.1.9 2 2 2h14c1.1 0 2-.9 2-2V5c0-1.1-.9-2-2-2zM9 17H7v-7h2v7zm4 0h-2V7h2v10zm4 0h-2v-4h2v4z\"/>\n",
              "    </g>\n",
              "</svg>\n",
              "  </button>\n",
              "\n",
              "<style>\n",
              "  .colab-df-quickchart {\n",
              "      --bg-color: #E8F0FE;\n",
              "      --fill-color: #1967D2;\n",
              "      --hover-bg-color: #E2EBFA;\n",
              "      --hover-fill-color: #174EA6;\n",
              "      --disabled-fill-color: #AAA;\n",
              "      --disabled-bg-color: #DDD;\n",
              "  }\n",
              "\n",
              "  [theme=dark] .colab-df-quickchart {\n",
              "      --bg-color: #3B4455;\n",
              "      --fill-color: #D2E3FC;\n",
              "      --hover-bg-color: #434B5C;\n",
              "      --hover-fill-color: #FFFFFF;\n",
              "      --disabled-bg-color: #3B4455;\n",
              "      --disabled-fill-color: #666;\n",
              "  }\n",
              "\n",
              "  .colab-df-quickchart {\n",
              "    background-color: var(--bg-color);\n",
              "    border: none;\n",
              "    border-radius: 50%;\n",
              "    cursor: pointer;\n",
              "    display: none;\n",
              "    fill: var(--fill-color);\n",
              "    height: 32px;\n",
              "    padding: 0;\n",
              "    width: 32px;\n",
              "  }\n",
              "\n",
              "  .colab-df-quickchart:hover {\n",
              "    background-color: var(--hover-bg-color);\n",
              "    box-shadow: 0 1px 2px rgba(60, 64, 67, 0.3), 0 1px 3px 1px rgba(60, 64, 67, 0.15);\n",
              "    fill: var(--button-hover-fill-color);\n",
              "  }\n",
              "\n",
              "  .colab-df-quickchart-complete:disabled,\n",
              "  .colab-df-quickchart-complete:disabled:hover {\n",
              "    background-color: var(--disabled-bg-color);\n",
              "    fill: var(--disabled-fill-color);\n",
              "    box-shadow: none;\n",
              "  }\n",
              "\n",
              "  .colab-df-spinner {\n",
              "    border: 2px solid var(--fill-color);\n",
              "    border-color: transparent;\n",
              "    border-bottom-color: var(--fill-color);\n",
              "    animation:\n",
              "      spin 1s steps(1) infinite;\n",
              "  }\n",
              "\n",
              "  @keyframes spin {\n",
              "    0% {\n",
              "      border-color: transparent;\n",
              "      border-bottom-color: var(--fill-color);\n",
              "      border-left-color: var(--fill-color);\n",
              "    }\n",
              "    20% {\n",
              "      border-color: transparent;\n",
              "      border-left-color: var(--fill-color);\n",
              "      border-top-color: var(--fill-color);\n",
              "    }\n",
              "    30% {\n",
              "      border-color: transparent;\n",
              "      border-left-color: var(--fill-color);\n",
              "      border-top-color: var(--fill-color);\n",
              "      border-right-color: var(--fill-color);\n",
              "    }\n",
              "    40% {\n",
              "      border-color: transparent;\n",
              "      border-right-color: var(--fill-color);\n",
              "      border-top-color: var(--fill-color);\n",
              "    }\n",
              "    60% {\n",
              "      border-color: transparent;\n",
              "      border-right-color: var(--fill-color);\n",
              "    }\n",
              "    80% {\n",
              "      border-color: transparent;\n",
              "      border-right-color: var(--fill-color);\n",
              "      border-bottom-color: var(--fill-color);\n",
              "    }\n",
              "    90% {\n",
              "      border-color: transparent;\n",
              "      border-bottom-color: var(--fill-color);\n",
              "    }\n",
              "  }\n",
              "</style>\n",
              "\n",
              "  <script>\n",
              "    async function quickchart(key) {\n",
              "      const quickchartButtonEl =\n",
              "        document.querySelector('#' + key + ' button');\n",
              "      quickchartButtonEl.disabled = true;  // To prevent multiple clicks.\n",
              "      quickchartButtonEl.classList.add('colab-df-spinner');\n",
              "      try {\n",
              "        const charts = await google.colab.kernel.invokeFunction(\n",
              "            'suggestCharts', [key], {});\n",
              "      } catch (error) {\n",
              "        console.error('Error during call to suggestCharts:', error);\n",
              "      }\n",
              "      quickchartButtonEl.classList.remove('colab-df-spinner');\n",
              "      quickchartButtonEl.classList.add('colab-df-quickchart-complete');\n",
              "    }\n",
              "    (() => {\n",
              "      let quickchartButtonEl =\n",
              "        document.querySelector('#df-324d803c-42d2-4ebf-b5c2-17419987dcd9 button');\n",
              "      quickchartButtonEl.style.display =\n",
              "        google.colab.kernel.accessAllowed ? 'block' : 'none';\n",
              "    })();\n",
              "  </script>\n",
              "</div>\n",
              "\n",
              "    </div>\n",
              "  </div>\n"
            ],
            "application/vnd.google.colaboratory.intrinsic+json": {
              "type": "dataframe",
              "variable_name": "train_set",
              "summary": "{\n  \"name\": \"train_set\",\n  \"rows\": 891,\n  \"fields\": [\n    {\n      \"column\": \"PassengerId\",\n      \"properties\": {\n        \"dtype\": \"number\",\n        \"std\": 257,\n        \"min\": 1,\n        \"max\": 891,\n        \"num_unique_values\": 891,\n        \"samples\": [\n          710,\n          440,\n          841\n        ],\n        \"semantic_type\": \"\",\n        \"description\": \"\"\n      }\n    },\n    {\n      \"column\": \"Survived\",\n      \"properties\": {\n        \"dtype\": \"number\",\n        \"std\": 0,\n        \"min\": 0,\n        \"max\": 1,\n        \"num_unique_values\": 2,\n        \"samples\": [\n          1,\n          0\n        ],\n        \"semantic_type\": \"\",\n        \"description\": \"\"\n      }\n    },\n    {\n      \"column\": \"Pclass\",\n      \"properties\": {\n        \"dtype\": \"number\",\n        \"std\": 0,\n        \"min\": 1,\n        \"max\": 3,\n        \"num_unique_values\": 3,\n        \"samples\": [\n          3,\n          1\n        ],\n        \"semantic_type\": \"\",\n        \"description\": \"\"\n      }\n    },\n    {\n      \"column\": \"Name\",\n      \"properties\": {\n        \"dtype\": \"string\",\n        \"num_unique_values\": 891,\n        \"samples\": [\n          \"Moubarek, Master. Halim Gonios (\\\"William George\\\")\",\n          \"Kvillner, Mr. Johan Henrik Johannesson\"\n        ],\n        \"semantic_type\": \"\",\n        \"description\": \"\"\n      }\n    },\n    {\n      \"column\": \"Sex\",\n      \"properties\": {\n        \"dtype\": \"category\",\n        \"num_unique_values\": 2,\n        \"samples\": [\n          \"female\",\n          \"male\"\n        ],\n        \"semantic_type\": \"\",\n        \"description\": \"\"\n      }\n    },\n    {\n      \"column\": \"Age\",\n      \"properties\": {\n        \"dtype\": \"number\",\n        \"std\": 14.526497332334042,\n        \"min\": 0.42,\n        \"max\": 80.0,\n        \"num_unique_values\": 88,\n        \"samples\": [\n          0.75,\n          22.0\n        ],\n        \"semantic_type\": \"\",\n        \"description\": \"\"\n      }\n    },\n    {\n      \"column\": \"SibSp\",\n      \"properties\": {\n        \"dtype\": \"number\",\n        \"std\": 1,\n        \"min\": 0,\n        \"max\": 8,\n        \"num_unique_values\": 7,\n        \"samples\": [\n          1,\n          0\n        ],\n        \"semantic_type\": \"\",\n        \"description\": \"\"\n      }\n    },\n    {\n      \"column\": \"Parch\",\n      \"properties\": {\n        \"dtype\": \"number\",\n        \"std\": 0,\n        \"min\": 0,\n        \"max\": 6,\n        \"num_unique_values\": 7,\n        \"samples\": [\n          0,\n          1\n        ],\n        \"semantic_type\": \"\",\n        \"description\": \"\"\n      }\n    },\n    {\n      \"column\": \"Ticket\",\n      \"properties\": {\n        \"dtype\": \"string\",\n        \"num_unique_values\": 681,\n        \"samples\": [\n          \"11774\",\n          \"248740\"\n        ],\n        \"semantic_type\": \"\",\n        \"description\": \"\"\n      }\n    },\n    {\n      \"column\": \"Fare\",\n      \"properties\": {\n        \"dtype\": \"number\",\n        \"std\": 49.6934285971809,\n        \"min\": 0.0,\n        \"max\": 512.3292,\n        \"num_unique_values\": 248,\n        \"samples\": [\n          11.2417,\n          51.8625\n        ],\n        \"semantic_type\": \"\",\n        \"description\": \"\"\n      }\n    },\n    {\n      \"column\": \"Cabin\",\n      \"properties\": {\n        \"dtype\": \"category\",\n        \"num_unique_values\": 147,\n        \"samples\": [\n          \"D45\",\n          \"B49\"\n        ],\n        \"semantic_type\": \"\",\n        \"description\": \"\"\n      }\n    },\n    {\n      \"column\": \"Embarked\",\n      \"properties\": {\n        \"dtype\": \"category\",\n        \"num_unique_values\": 3,\n        \"samples\": [\n          \"S\",\n          \"C\"\n        ],\n        \"semantic_type\": \"\",\n        \"description\": \"\"\n      }\n    }\n  ]\n}"
            }
          },
          "metadata": {},
          "execution_count": 5
        }
      ],
      "source": [
        "train_set.head()"
      ]
    },
    {
      "cell_type": "code",
      "execution_count": null,
      "metadata": {
        "colab": {
          "base_uri": "https://localhost:8080/"
        },
        "id": "8TGPXpW0INgn",
        "outputId": "4df003ca-f438-44d3-f887-97a1e1d02491"
      },
      "outputs": [
        {
          "output_type": "execute_result",
          "data": {
            "text/plain": [
              "Index(['PassengerId', 'Survived', 'Pclass', 'Name', 'Sex', 'Age', 'SibSp',\n",
              "       'Parch', 'Ticket', 'Fare', 'Cabin', 'Embarked'],\n",
              "      dtype='object')"
            ]
          },
          "metadata": {},
          "execution_count": 6
        }
      ],
      "source": [
        "train_set.columns"
      ]
    },
    {
      "cell_type": "code",
      "execution_count": null,
      "metadata": {
        "colab": {
          "base_uri": "https://localhost:8080/"
        },
        "id": "OwiC-v_8IZ5t",
        "outputId": "2d450c50-8e4c-4ccc-eed0-0dad1b34d0c7"
      },
      "outputs": [
        {
          "output_type": "stream",
          "name": "stdout",
          "text": [
            "<class 'pandas.core.frame.DataFrame'>\n",
            "RangeIndex: 891 entries, 0 to 890\n",
            "Data columns (total 12 columns):\n",
            " #   Column       Non-Null Count  Dtype  \n",
            "---  ------       --------------  -----  \n",
            " 0   PassengerId  891 non-null    int64  \n",
            " 1   Survived     891 non-null    int64  \n",
            " 2   Pclass       891 non-null    int64  \n",
            " 3   Name         891 non-null    object \n",
            " 4   Sex          891 non-null    object \n",
            " 5   Age          714 non-null    float64\n",
            " 6   SibSp        891 non-null    int64  \n",
            " 7   Parch        891 non-null    int64  \n",
            " 8   Ticket       891 non-null    object \n",
            " 9   Fare         891 non-null    float64\n",
            " 10  Cabin        204 non-null    object \n",
            " 11  Embarked     889 non-null    object \n",
            "dtypes: float64(2), int64(5), object(5)\n",
            "memory usage: 83.7+ KB\n"
          ]
        }
      ],
      "source": [
        "train_set.info()"
      ]
    },
    {
      "cell_type": "code",
      "execution_count": null,
      "metadata": {
        "colab": {
          "base_uri": "https://localhost:8080/"
        },
        "id": "RPlHg2QU4ULr",
        "outputId": "d23397dc-adf8-4206-865e-9e4445638c49"
      },
      "outputs": [
        {
          "output_type": "execute_result",
          "data": {
            "text/plain": [
              "Index(['PassengerId', 'Survived', 'Pclass', 'Age', 'SibSp', 'Parch', 'Fare'], dtype='object')"
            ]
          },
          "metadata": {},
          "execution_count": 8
        }
      ],
      "source": [
        "# Variáveis numéricas\n",
        "numeric_features = train_set.select_dtypes(include=np.number)\n",
        "numeric_features.columns"
      ]
    },
    {
      "cell_type": "code",
      "execution_count": null,
      "metadata": {
        "colab": {
          "base_uri": "https://localhost:8080/"
        },
        "id": "SIQwnsqi4ZC6",
        "outputId": "55f64f6f-06d6-4431-9649-444e858548a6"
      },
      "outputs": [
        {
          "output_type": "execute_result",
          "data": {
            "text/plain": [
              "Index(['Name', 'Sex', 'Ticket', 'Cabin', 'Embarked'], dtype='object')"
            ]
          },
          "metadata": {},
          "execution_count": 9
        }
      ],
      "source": [
        "# Variáveis categóricas\n",
        "catagoric_features = train_set.select_dtypes(exclude=np.number)\n",
        "catagoric_features.columns"
      ]
    },
    {
      "cell_type": "code",
      "execution_count": null,
      "metadata": {
        "colab": {
          "base_uri": "https://localhost:8080/",
          "height": 1238
        },
        "id": "bcbfIflBKjcj",
        "outputId": "e4780ec7-f637-4d58-8995-efd8d424e2e5"
      },
      "outputs": [
        {
          "output_type": "display_data",
          "data": {
            "text/plain": [
              "<Figure size 2000x1500 with 9 Axes>"
            ],
            "image/png": "[encoded data removed]"
          },
          "metadata": {}
        }
      ],
      "source": [
        "train_set.hist(bins=30, figsize=(20, 15), color='skyblue')\n",
        "plt.show()"
      ]
    },
    {
      "cell_type": "markdown",
      "metadata": {
        "id": "VyOpmb19HiVy"
      },
      "source": [
        "### **Correlação**"
      ]
    },
    {
      "cell_type": "markdown",
      "metadata": {
        "id": "x4IEA4KB-Hx_"
      },
      "source": [
        "A análise de correlações entre variáveis é uma etapa fundamental na exploração e entendimento de um conjunto de dados. Correlações indicam o grau de relacionamento entre duas variáveis e podem fornecer insights valiosos sobre como uma variável pode influenciar outra."
      ]
    },
    {
      "cell_type": "code",
      "execution_count": null,
      "metadata": {
        "colab": {
          "base_uri": "https://localhost:8080/"
        },
        "id": "6eMTyr835Sae",
        "outputId": "e80cc222-12b6-4586-c9cc-ad49dbe25151"
      },
      "outputs": [
        {
          "output_type": "stream",
          "name": "stdout",
          "text": [
            "Survived       1.000000\n",
            "Fare           0.257307\n",
            "Parch          0.081629\n",
            "PassengerId   -0.005007\n",
            "SibSp         -0.035322\n",
            "Age           -0.077221\n",
            "Pclass        -0.338481\n",
            "Name: Survived, dtype: float64 \n",
            "\n"
          ]
        }
      ],
      "source": [
        "# Correlação das variáveis numéricas em relação ao atributo 'Survived'\n",
        "correlation = numeric_features.corr()\n",
        "print(correlation['Survived'].sort_values(ascending=False), '\\n')"
      ]
    },
    {
      "cell_type": "code",
      "execution_count": null,
      "metadata": {
        "colab": {
          "base_uri": "https://localhost:8080/",
          "height": 614
        },
        "id": "4cd6_8aZ5VNH",
        "outputId": "7f04ec03-ba5c-4120-de85-d4ceb955396b"
      },
      "outputs": [
        {
          "output_type": "display_data",
          "data": {
            "text/plain": [
              "<Figure size 800x600 with 2 Axes>"
            ],
            "image/png": "[encoded data removed]"
          },
          "metadata": {}
        }
      ],
      "source": [
        "# Mapa de calor da matriz de correlação entre todas as variáveis\n",
        "cmap = sns.light_palette('skyblue', as_cmap=True)\n",
        "plt.figure(figsize=(8, 6))\n",
        "sns.heatmap(correlation, square=True, cmap=cmap, annot=True, annot_kws={'size': 9}, linecolor='white', linewidths=0.01)\n",
        "plt.title('Heatmap of Correlation Matrix')\n",
        "plt.show()"
      ]
    },
    {
      "cell_type": "markdown",
      "source": [
        "A seguir, analisaremos a frequência de sobrevivência dos passageiros em relação à colunas relacionadas."
      ],
      "metadata": {
        "id": "AxcP2Ke3cnL7"
      }
    },
    {
      "cell_type": "code",
      "source": [
        "# Criando um DataFrame para categorizar passageiros adultos e não adultos\n",
        "train_set['AgeGroup'] = train_set['Age'].apply(lambda x: 'Adult' if x >= 18 and x<= 65 else 'Non-Adult')\n",
        "\n",
        "# Configurando a paleta de cores\n",
        "sns.set_palette('Blues_d')\n",
        "\n",
        "# Plotando a frequência de sobrevivência por classes de idade\n",
        "plt.figure(figsize=(5, 3))\n",
        "sns.countplot(x='AgeGroup', hue='Survived', data=train_set)\n",
        "plt.title('Survival Frequency by Age Group')\n",
        "\n",
        "plt.xlabel('Age Group')\n",
        "plt.ylabel('Passengers')\n",
        "plt.legend(title='Survived', labels=['NO', 'Yes'])\n",
        "\n",
        "plt.show()\n",
        "train_set = train_set.drop(['AgeGroup'], axis=1)"
      ],
      "metadata": {
        "colab": {
          "base_uri": "https://localhost:8080/",
          "height": 333
        },
        "id": "Fls911wCcweo",
        "outputId": "f231dc3d-4125-4124-8e86-6567f2d94ad1"
      },
      "execution_count": null,
      "outputs": [
        {
          "output_type": "display_data",
          "data": {
            "text/plain": [
              "<Figure size 500x300 with 1 Axes>"
            ],
            "image/png": "[encoded data removed]"
          },
          "metadata": {}
        }
      ]
    },
    {
      "cell_type": "code",
      "source": [
        "# Gráfico de sobrevivência por classe social\n",
        "plt.figure(figsize=(5, 3))\n",
        "sns.countplot(x='Pclass', hue='Survived', data=train_set)\n",
        "plt.title('Survival Frequency by Class')\n",
        "\n",
        "plt.xlabel('Class')\n",
        "plt.ylabel('Passengers')\n",
        "plt.legend(title='Survived', labels=['No','Yes'])\n",
        "\n",
        "plt.show()"
      ],
      "metadata": {
        "colab": {
          "base_uri": "https://localhost:8080/",
          "height": 333
        },
        "id": "40bXZoDyTbYl",
        "outputId": "aca39750-768b-4cb3-a5f3-7b90dbbdc5b7"
      },
      "execution_count": null,
      "outputs": [
        {
          "output_type": "display_data",
          "data": {
            "text/plain": [
              "<Figure size 500x300 with 1 Axes>"
            ],
            "image/png": "[encoded data removed]"
          },
          "metadata": {}
        }
      ]
    },
    {
      "cell_type": "code",
      "source": [
        "# Gráfico de sobrevivência por sexo\n",
        "plt.figure(figsize=(5, 3))\n",
        "sns.countplot(x='Sex', hue='Survived', data=train_set)\n",
        "plt.title('Survival Frequency by Gender')\n",
        "\n",
        "plt.xlabel('Gender')\n",
        "plt.ylabel('Passengers')\n",
        "plt.legend(title='Survived', labels=['No','Yes'])\n",
        "\n",
        "plt.show()"
      ],
      "metadata": {
        "colab": {
          "base_uri": "https://localhost:8080/",
          "height": 333
        },
        "id": "RgK4dUU3T-3l",
        "outputId": "5e0ae293-288a-4787-fc48-15dd630024a8"
      },
      "execution_count": null,
      "outputs": [
        {
          "output_type": "display_data",
          "data": {
            "text/plain": [
              "<Figure size 500x300 with 1 Axes>"
            ],
            "image/png": "[encoded data removed]"
          },
          "metadata": {}
        }
      ]
    },
    {
      "cell_type": "markdown",
      "metadata": {
        "id": "pv6_srUpHnXf"
      },
      "source": [
        "### **Dados Faltantes e Outliers**"
      ]
    },
    {
      "cell_type": "markdown",
      "metadata": {
        "id": "UykQmajmJ2tm"
      },
      "source": [
        "A coluna `Age` apresenta 177 valores faltantes, indicando que uma quantidade significativa de passageiros não teve sua idade registrada. A coluna `Cabin` é a que apresenta o maior número de dados ausentes, com 687 valores faltantes, sugerindo que muitas cabines não foram registradas ou os passageiros não tinham uma cabine específica. A coluna `Embarked` possui apenas 2 valores faltantes, mostrando que a maioria dos passageiros tem o porto de embarque registrado."
      ]
    },
    {
      "cell_type": "code",
      "execution_count": null,
      "metadata": {
        "colab": {
          "base_uri": "https://localhost:8080/"
        },
        "id": "xAx_YyJm73oC",
        "outputId": "4670bae4-aaa0-4af2-a8f4-941c230e4a96"
      },
      "outputs": [
        {
          "output_type": "stream",
          "name": "stdout",
          "text": [
            "PassengerId      0\n",
            "Survived         0\n",
            "Pclass           0\n",
            "Name             0\n",
            "Sex              0\n",
            "Age            177\n",
            "SibSp            0\n",
            "Parch            0\n",
            "Ticket           0\n",
            "Fare             0\n",
            "Cabin          687\n",
            "Embarked         2\n",
            "dtype: int64\n"
          ]
        }
      ],
      "source": [
        "missing = train_set.isnull().sum()\n",
        "print(missing)"
      ]
    },
    {
      "cell_type": "code",
      "execution_count": null,
      "metadata": {
        "colab": {
          "base_uri": "https://localhost:8080/",
          "height": 390
        },
        "id": "iPMncD2GI29F",
        "outputId": "3d3d1763-7880-4421-a501-63eec6c627a8"
      },
      "outputs": [
        {
          "output_type": "display_data",
          "data": {
            "text/plain": [
              "<Figure size 500x300 with 1 Axes>"
            ],
            "image/png": "[encoded data removed]"
          },
          "metadata": {}
        }
      ],
      "source": [
        "missing = missing[missing > 0]\n",
        "missing.sort_values(inplace=True)\n",
        "\n",
        "missing.plot.bar(color='skyblue', figsize=(5, 3))\n",
        "plt.xlabel('Columns')\n",
        "plt.ylabel('Number of Missing Values')\n",
        "plt.title('Missing Values per Column')\n",
        "\n",
        "plt.show()"
      ]
    },
    {
      "cell_type": "code",
      "execution_count": null,
      "metadata": {
        "colab": {
          "base_uri": "https://localhost:8080/"
        },
        "id": "G8Zc4qHzPC-M",
        "outputId": "f2886611-2631-437a-ffe3-820e9809db40"
      },
      "outputs": [
        {
          "output_type": "stream",
          "name": "stdout",
          "text": [
            "Number of Outliers per Column:\n",
            "{'PassengerId': 0, 'Survived': 0, 'Pclass': 0, 'Age': 11, 'SibSp': 46, 'Parch': 213, 'Fare': 116}\n"
          ]
        }
      ],
      "source": [
        "outliers = {}\n",
        "\n",
        "for col in train_set.columns:\n",
        "    if pd.api.types.is_numeric_dtype(train_set[col]):\n",
        "        Q1 = train_set[col].quantile(0.25)\n",
        "        Q3 = train_set[col].quantile(0.75)\n",
        "        IQR = Q3 - Q1\n",
        "        lower_bound = Q1 - 1.5 * IQR\n",
        "        upper_bound = Q3 + 1.5 * IQR\n",
        "        outliers[col] = train_set[(train_set[col] < lower_bound) | (train_set[col] > upper_bound)][col].count()\n",
        "\n",
        "print('Number of Outliers per Column:')\n",
        "print(outliers)"
      ]
    },
    {
      "cell_type": "code",
      "execution_count": null,
      "metadata": {
        "colab": {
          "base_uri": "https://localhost:8080/",
          "height": 900
        },
        "id": "LK4uINcuL19o",
        "outputId": "469b6adc-106c-4416-fbfe-20f9b9389a86"
      },
      "outputs": [
        {
          "output_type": "display_data",
          "data": {
            "text/plain": [
              "<Figure size 2000x1000 with 1 Axes>"
            ],
            "image/png": "[encoded data removed]"
          },
          "metadata": {}
        }
      ],
      "source": [
        "# Plotando outliers\n",
        "plt.figure(figsize=(20, 10))\n",
        "sns.boxplot(data=train_set, palette='Blues_d')\n",
        "plt.xticks(rotation=90)\n",
        "plt.show()"
      ]
    },
    {
      "cell_type": "markdown",
      "metadata": {
        "id": "0eJy4ut874Em"
      },
      "source": [
        "## **Tratamento dos Dados**\n",
        "---"
      ]
    },
    {
      "cell_type": "markdown",
      "metadata": {
        "id": "BKtyRBA690Vb"
      },
      "source": [
        "O tratamento dos dados é uma etapa crucial para garantir que o modelo preditivo possa aprender de maneira eficiente e produzir resultados precisos. No projeto de previsão de sobrevivência dos passageiros do Titanic, realizamos as seguintes etapas de pré-processamento: **Tratamento de Valores Ausentes**, **Codificação de Variáveis Categóricas**, **Escalonamento de Dados** e **Remoção de Colunas Irrelevantes**."
      ]
    },
    {
      "cell_type": "markdown",
      "metadata": {
        "id": "LNHscOa1_3iO"
      },
      "source": [
        "### **Tratamento de Valores Ausentes**"
      ]
    },
    {
      "cell_type": "markdown",
      "metadata": {
        "id": "cFXm5NblAHND"
      },
      "source": [
        "- **`Age`:** Valores ausentes são preenchidos com a mediana das idades dos passageiros.\n",
        "- **`Fare`:** Valores ausentes são preenchidos com a média dos valores do atributo.\n",
        "- **`Cabin`:** Devido ao grande número de valores ausentes, esta coluna é descartada.\n",
        "- **`Embarked`:** Valores ausentes são preenchidos com o porto de embarque mais frequente."
      ]
    },
    {
      "cell_type": "code",
      "execution_count": null,
      "metadata": {
        "colab": {
          "base_uri": "https://localhost:8080/"
        },
        "id": "rianRXNbAmjm",
        "outputId": "e75d8292-8ac6-431e-b5a3-d917b5f63756"
      },
      "outputs": [
        {
          "output_type": "stream",
          "name": "stdout",
          "text": [
            "PassengerId    0\n",
            "Pclass         0\n",
            "Name           0\n",
            "Sex            0\n",
            "Age            0\n",
            "SibSp          0\n",
            "Parch          0\n",
            "Ticket         0\n",
            "Fare           0\n",
            "Embarked       0\n",
            "dtype: int64 \n",
            "\n",
            "PassengerId    0\n",
            "Survived       0\n",
            "Pclass         0\n",
            "Name           0\n",
            "Sex            0\n",
            "Age            0\n",
            "SibSp          0\n",
            "Parch          0\n",
            "Ticket         0\n",
            "Fare           0\n",
            "Embarked       0\n",
            "dtype: int64\n"
          ]
        }
      ],
      "source": [
        "from sklearn.impute import SimpleImputer\n",
        "\n",
        "# Preencher valores ausentes na coluna 'Age' com a mediana\n",
        "age_imputer = SimpleImputer(strategy='median')\n",
        "test_set['Age'] = age_imputer.fit_transform(test_set[['Age']])\n",
        "train_set['Age'] = age_imputer.fit_transform(train_set[['Age']])\n",
        "\n",
        "# Remover os valores ausentes da coluna 'Fare'\n",
        "fare_imputer = SimpleImputer(strategy='mean')\n",
        "test_set['Fare'] = age_imputer.fit_transform(test_set[['Fare']])\n",
        "train_set['Fare'] = age_imputer.fit_transform(train_set[['Fare']])\n",
        "\n",
        "# Descartar a coluna 'Cabin' devido ao grande número de valores ausentes\n",
        "test_set.drop(columns=['Cabin'], inplace=True)\n",
        "train_set.drop(columns=['Cabin'], inplace=True)\n",
        "\n",
        "# Preencher valores ausentes na coluna 'Embarked' com o valor mais frequente\n",
        "embarked_imputer = SimpleImputer(strategy='most_frequent')\n",
        "test_set['Embarked'] = embarked_imputer.fit_transform(test_set[['Embarked']]).ravel()\n",
        "train_set['Embarked'] = embarked_imputer.fit_transform(train_set[['Embarked']]).ravel()\n",
        "\n",
        "# Verificar se ainda há valores ausentes\n",
        "print(test_set.isnull().sum(), '\\n')\n",
        "print(train_set.isnull().sum())"
      ]
    },
    {
      "cell_type": "markdown",
      "metadata": {
        "id": "QvrtDULD_3zQ"
      },
      "source": [
        "### **Codificação de Variáveis Categóricas**"
      ]
    },
    {
      "cell_type": "markdown",
      "metadata": {
        "id": "b-fRp_qnAXWK"
      },
      "source": [
        "- **`Pclass`:** Utilizamos One-Hot Encoding para transformar os valores de classe social em variáveis binárias.\n",
        "- **`Sex`:** Utilizamos One-Hot Encoding para transformar os valores de gênero em variáveis binárias.\n",
        "- **`Embarked`:** Utilizamos One-Hot Encoding para transformar os valores categóricos (`'C'`, `'Q'`, `'S'`) em variáveis binárias."
      ]
    },
    {
      "cell_type": "code",
      "execution_count": null,
      "metadata": {
        "id": "rGkrLLR47hDA"
      },
      "outputs": [],
      "source": [
        "# Codificar as variáveis categóricas\n",
        "test_set = pd.get_dummies(test_set, columns=['Pclass', 'Sex', 'Embarked'])\n",
        "train_set = pd.get_dummies(train_set, columns=['Pclass', 'Sex', 'Embarked'])"
      ]
    },
    {
      "cell_type": "markdown",
      "metadata": {
        "id": "08SVp8CvAnv7"
      },
      "source": [
        "### **Escalonamento de Dados**\n"
      ]
    },
    {
      "cell_type": "markdown",
      "metadata": {
        "id": "rxtRNuTtCczN"
      },
      "source": [
        "- **`Age`:** A coluna de idades é escalonada para garantir que todas as características estejam na mesma escala. Utilizamos o escalonamento Min-Max ou padronização (`StandardScaler`).\n",
        "- **`SibSp`:** Escalonamos o número de irmãos e cônjuge a bordo usando as mesmas técnicas que a coluna de idades.\n",
        "- **`Parch`:** Escalonamos o número de pais e filhos a bordo usando as mesmas técnicas que a coluna de idades.\n",
        "- **`Fare`:** Também escalonamos as tarifas usando as mesmas técnicas que a coluna de idades."
      ]
    },
    {
      "cell_type": "code",
      "execution_count": null,
      "metadata": {
        "id": "QAFIUtPvAzXR"
      },
      "outputs": [],
      "source": [
        "from sklearn.preprocessing import MinMaxScaler\n",
        "scaler = MinMaxScaler()\n",
        "\n",
        "# Escalonamento Min-Max para a coluna 'Age'\n",
        "test_set['Age'] = scaler.fit_transform(test_set[['Age']])\n",
        "train_set['Age'] = scaler.transform(train_set[['Age']])\n",
        "\n",
        "# Escalonamento Min-Max para a coluna 'SibSp'\n",
        "test_set['SibSp'] = scaler.fit_transform(test_set[['SibSp']])\n",
        "train_set['SibSp'] = scaler.transform(train_set[['SibSp']])\n",
        "\n",
        "# Escalonamento Min-Max para a coluna 'Parch'\n",
        "test_set['Parch'] = scaler.fit_transform(test_set[['Parch']])\n",
        "train_set['Parch'] = scaler.transform(train_set[['Parch']])\n",
        "\n",
        "# Escalonamento Min-Max para a coluna 'Fare'\n",
        "test_set['Fare'] = scaler.fit_transform(test_set[['Fare']])\n",
        "train_set['Fare'] = scaler.transform(train_set[['Fare']])"
      ]
    },
    {
      "cell_type": "markdown",
      "metadata": {
        "id": "OaFCUZmOA7bL"
      },
      "source": [
        "### **Remoção de Colunas Irrelevantes**\n"
      ]
    },
    {
      "cell_type": "markdown",
      "metadata": {
        "id": "AOJx_BDHBDmI"
      },
      "source": [
        "- **`PassengerId`:** Esta coluna não possui relevância preditiva e é removida.\n",
        "- **`Name`:** Esta coluna também não possui relevância preditiva, logo, é removida.\n",
        "- **`Ticket`:** Esta coluna é removida, a menos que se decida extrair algum padrão ou característica útil."
      ]
    },
    {
      "cell_type": "code",
      "execution_count": null,
      "metadata": {
        "id": "3jWXb7KxBEYl"
      },
      "outputs": [],
      "source": [
        "# Remover colunas irrelevantes\n",
        "test_set.drop(columns=['PassengerId', 'Name', 'Ticket'], inplace=True)\n",
        "train_set.drop(columns=['PassengerId', 'Name', 'Ticket'], inplace=True)"
      ]
    },
    {
      "cell_type": "code",
      "execution_count": null,
      "metadata": {
        "id": "Zl7ItczhCp90",
        "colab": {
          "base_uri": "https://localhost:8080/",
          "height": 206
        },
        "outputId": "fd67f4c0-238b-47f0-8036-9285d07810b2"
      },
      "outputs": [
        {
          "output_type": "execute_result",
          "data": {
            "text/plain": [
              "        Age  SibSp     Parch      Fare  Pclass_1  Pclass_2  Pclass_3  \\\n",
              "0  0.452723  0.000  0.000000  0.015282     False     False      True   \n",
              "1  0.617566  0.125  0.000000  0.013663     False     False      True   \n",
              "2  0.815377  0.000  0.000000  0.018909     False      True     False   \n",
              "3  0.353818  0.000  0.000000  0.016908     False     False      True   \n",
              "4  0.287881  0.125  0.111111  0.023984     False     False      True   \n",
              "\n",
              "   Sex_female  Sex_male  Embarked_C  Embarked_Q  Embarked_S  \n",
              "0       False      True       False        True       False  \n",
              "1        True     False       False       False        True  \n",
              "2       False      True       False        True       False  \n",
              "3       False      True       False       False        True  \n",
              "4        True     False       False       False        True  "
            ],
            "text/html": [
              "\n",
              "  <div id=\"df-9565d32f-4e2a-4835-b6a2-209c4b21d5a7\" class=\"colab-df-container\">\n",
              "    <div>\n",
              "<style scoped>\n",
              "    .dataframe tbody tr th:only-of-type {\n",
              "        vertical-align: middle;\n",
              "    }\n",
              "\n",
              "    .dataframe tbody tr th {\n",
              "        vertical-align: top;\n",
              "    }\n",
              "\n",
              "    .dataframe thead th {\n",
              "        text-align: right;\n",
              "    }\n",
              "</style>\n",
              "<table border=\"1\" class=\"dataframe\">\n",
              "  <thead>\n",
              "    <tr style=\"text-align: right;\">\n",
              "      <th></th>\n",
              "      <th>Age</th>\n",
              "      <th>SibSp</th>\n",
              "      <th>Parch</th>\n",
              "      <th>Fare</th>\n",
              "      <th>Pclass_1</th>\n",
              "      <th>Pclass_2</th>\n",
              "      <th>Pclass_3</th>\n",
              "      <th>Sex_female</th>\n",
              "      <th>Sex_male</th>\n",
              "      <th>Embarked_C</th>\n",
              "      <th>Embarked_Q</th>\n",
              "      <th>Embarked_S</th>\n",
              "    </tr>\n",
              "  </thead>\n",
              "  <tbody>\n",
              "    <tr>\n",
              "      <th>0</th>\n",
              "      <td>0.452723</td>\n",
              "      <td>0.000</td>\n",
              "      <td>0.000000</td>\n",
              "      <td>0.015282</td>\n",
              "      <td>False</td>\n",
              "      <td>False</td>\n",
              "      <td>True</td>\n",
              "      <td>False</td>\n",
              "      <td>True</td>\n",
              "      <td>False</td>\n",
              "      <td>True</td>\n",
              "      <td>False</td>\n",
              "    </tr>\n",
              "    <tr>\n",
              "      <th>1</th>\n",
              "      <td>0.617566</td>\n",
              "      <td>0.125</td>\n",
              "      <td>0.000000</td>\n",
              "      <td>0.013663</td>\n",
              "      <td>False</td>\n",
              "      <td>False</td>\n",
              "      <td>True</td>\n",
              "      <td>True</td>\n",
              "      <td>False</td>\n",
              "      <td>False</td>\n",
              "      <td>False</td>\n",
              "      <td>True</td>\n",
              "    </tr>\n",
              "    <tr>\n",
              "      <th>2</th>\n",
              "      <td>0.815377</td>\n",
              "      <td>0.000</td>\n",
              "      <td>0.000000</td>\n",
              "      <td>0.018909</td>\n",
              "      <td>False</td>\n",
              "      <td>True</td>\n",
              "      <td>False</td>\n",
              "      <td>False</td>\n",
              "      <td>True</td>\n",
              "      <td>False</td>\n",
              "      <td>True</td>\n",
              "      <td>False</td>\n",
              "    </tr>\n",
              "    <tr>\n",
              "      <th>3</th>\n",
              "      <td>0.353818</td>\n",
              "      <td>0.000</td>\n",
              "      <td>0.000000</td>\n",
              "      <td>0.016908</td>\n",
              "      <td>False</td>\n",
              "      <td>False</td>\n",
              "      <td>True</td>\n",
              "      <td>False</td>\n",
              "      <td>True</td>\n",
              "      <td>False</td>\n",
              "      <td>False</td>\n",
              "      <td>True</td>\n",
              "    </tr>\n",
              "    <tr>\n",
              "      <th>4</th>\n",
              "      <td>0.287881</td>\n",
              "      <td>0.125</td>\n",
              "      <td>0.111111</td>\n",
              "      <td>0.023984</td>\n",
              "      <td>False</td>\n",
              "      <td>False</td>\n",
              "      <td>True</td>\n",
              "      <td>True</td>\n",
              "      <td>False</td>\n",
              "      <td>False</td>\n",
              "      <td>False</td>\n",
              "      <td>True</td>\n",
              "    </tr>\n",
              "  </tbody>\n",
              "</table>\n",
              "</div>\n",
              "    <div class=\"colab-df-buttons\">\n",
              "\n",
              "  <div class=\"colab-df-container\">\n",
              "    <button class=\"colab-df-convert\" onclick=\"convertToInteractive('df-9565d32f-4e2a-4835-b6a2-209c4b21d5a7')\"\n",
              "            title=\"Convert this dataframe to an interactive table.\"\n",
              "            style=\"display:none;\">\n",
              "\n",
              "  <svg xmlns=\"http://www.w3.org/2000/svg\" height=\"24px\" viewBox=\"0 -960 960 960\">\n",
              "    <path d=\"M120-120v-720h720v720H120Zm60-500h600v-160H180v160Zm220 220h160v-160H400v160Zm0 220h160v-160H400v160ZM180-400h160v-160H180v160Zm440 0h160v-160H620v160ZM180-180h160v-160H180v160Zm440 0h160v-160H620v160Z\"/>\n",
              "  </svg>\n",
              "    </button>\n",
              "\n",
              "  <style>\n",
              "    .colab-df-container {\n",
              "      display:flex;\n",
              "      gap: 12px;\n",
              "    }\n",
              "\n",
              "    .colab-df-convert {\n",
              "      background-color: #E8F0FE;\n",
              "      border: none;\n",
              "      border-radius: 50%;\n",
              "      cursor: pointer;\n",
              "      display: none;\n",
              "      fill: #1967D2;\n",
              "      height: 32px;\n",
              "      padding: 0 0 0 0;\n",
              "      width: 32px;\n",
              "    }\n",
              "\n",
              "    .colab-df-convert:hover {\n",
              "      background-color: #E2EBFA;\n",
              "      box-shadow: 0px 1px 2px rgba(60, 64, 67, 0.3), 0px 1px 3px 1px rgba(60, 64, 67, 0.15);\n",
              "      fill: #174EA6;\n",
              "    }\n",
              "\n",
              "    .colab-df-buttons div {\n",
              "      margin-bottom: 4px;\n",
              "    }\n",
              "\n",
              "    [theme=dark] .colab-df-convert {\n",
              "      background-color: #3B4455;\n",
              "      fill: #D2E3FC;\n",
              "    }\n",
              "\n",
              "    [theme=dark] .colab-df-convert:hover {\n",
              "      background-color: #434B5C;\n",
              "      box-shadow: 0px 1px 3px 1px rgba(0, 0, 0, 0.15);\n",
              "      filter: drop-shadow(0px 1px 2px rgba(0, 0, 0, 0.3));\n",
              "      fill: #FFFFFF;\n",
              "    }\n",
              "  </style>\n",
              "\n",
              "    <script>\n",
              "      const buttonEl =\n",
              "        document.querySelector('#df-9565d32f-4e2a-4835-b6a2-209c4b21d5a7 button.colab-df-convert');\n",
              "      buttonEl.style.display =\n",
              "        google.colab.kernel.accessAllowed ? 'block' : 'none';\n",
              "\n",
              "      async function convertToInteractive(key) {\n",
              "        const element = document.querySelector('#df-9565d32f-4e2a-4835-b6a2-209c4b21d5a7');\n",
              "        const dataTable =\n",
              "          await google.colab.kernel.invokeFunction('convertToInteractive',\n",
              "                                                    [key], {});\n",
              "        if (!dataTable) return;\n",
              "\n",
              "        const docLinkHtml = 'Like what you see? Visit the ' +\n",
              "          '<a target=\"_blank\" href=https://colab.research.google.com/notebooks/data_table.ipynb>data table notebook</a>'\n",
              "          + ' to learn more about interactive tables.';\n",
              "        element.innerHTML = '';\n",
              "        dataTable['output_type'] = 'display_data';\n",
              "        await google.colab.output.renderOutput(dataTable, element);\n",
              "        const docLink = document.createElement('div');\n",
              "        docLink.innerHTML = docLinkHtml;\n",
              "        element.appendChild(docLink);\n",
              "      }\n",
              "    </script>\n",
              "  </div>\n",
              "\n",
              "\n",
              "<div id=\"df-af1dcc24-318e-4072-974a-f86999de2f9c\">\n",
              "  <button class=\"colab-df-quickchart\" onclick=\"quickchart('df-af1dcc24-318e-4072-974a-f86999de2f9c')\"\n",
              "            title=\"Suggest charts\"\n",
              "            style=\"display:none;\">\n",
              "\n",
              "<svg xmlns=\"http://www.w3.org/2000/svg\" height=\"24px\"viewBox=\"0 0 24 24\"\n",
              "     width=\"24px\">\n",
              "    <g>\n",
              "        <path d=\"M19 3H5c-1.1 0-2 .9-2 2v14c0 1.1.9 2 2 2h14c1.1 0 2-.9 2-2V5c0-1.1-.9-2-2-2zM9 17H7v-7h2v7zm4 0h-2V7h2v10zm4 0h-2v-4h2v4z\"/>\n",
              "    </g>\n",
              "</svg>\n",
              "  </button>\n",
              "\n",
              "<style>\n",
              "  .colab-df-quickchart {\n",
              "      --bg-color: #E8F0FE;\n",
              "      --fill-color: #1967D2;\n",
              "      --hover-bg-color: #E2EBFA;\n",
              "      --hover-fill-color: #174EA6;\n",
              "      --disabled-fill-color: #AAA;\n",
              "      --disabled-bg-color: #DDD;\n",
              "  }\n",
              "\n",
              "  [theme=dark] .colab-df-quickchart {\n",
              "      --bg-color: #3B4455;\n",
              "      --fill-color: #D2E3FC;\n",
              "      --hover-bg-color: #434B5C;\n",
              "      --hover-fill-color: #FFFFFF;\n",
              "      --disabled-bg-color: #3B4455;\n",
              "      --disabled-fill-color: #666;\n",
              "  }\n",
              "\n",
              "  .colab-df-quickchart {\n",
              "    background-color: var(--bg-color);\n",
              "    border: none;\n",
              "    border-radius: 50%;\n",
              "    cursor: pointer;\n",
              "    display: none;\n",
              "    fill: var(--fill-color);\n",
              "    height: 32px;\n",
              "    padding: 0;\n",
              "    width: 32px;\n",
              "  }\n",
              "\n",
              "  .colab-df-quickchart:hover {\n",
              "    background-color: var(--hover-bg-color);\n",
              "    box-shadow: 0 1px 2px rgba(60, 64, 67, 0.3), 0 1px 3px 1px rgba(60, 64, 67, 0.15);\n",
              "    fill: var(--button-hover-fill-color);\n",
              "  }\n",
              "\n",
              "  .colab-df-quickchart-complete:disabled,\n",
              "  .colab-df-quickchart-complete:disabled:hover {\n",
              "    background-color: var(--disabled-bg-color);\n",
              "    fill: var(--disabled-fill-color);\n",
              "    box-shadow: none;\n",
              "  }\n",
              "\n",
              "  .colab-df-spinner {\n",
              "    border: 2px solid var(--fill-color);\n",
              "    border-color: transparent;\n",
              "    border-bottom-color: var(--fill-color);\n",
              "    animation:\n",
              "      spin 1s steps(1) infinite;\n",
              "  }\n",
              "\n",
              "  @keyframes spin {\n",
              "    0% {\n",
              "      border-color: transparent;\n",
              "      border-bottom-color: var(--fill-color);\n",
              "      border-left-color: var(--fill-color);\n",
              "    }\n",
              "    20% {\n",
              "      border-color: transparent;\n",
              "      border-left-color: var(--fill-color);\n",
              "      border-top-color: var(--fill-color);\n",
              "    }\n",
              "    30% {\n",
              "      border-color: transparent;\n",
              "      border-left-color: var(--fill-color);\n",
              "      border-top-color: var(--fill-color);\n",
              "      border-right-color: var(--fill-color);\n",
              "    }\n",
              "    40% {\n",
              "      border-color: transparent;\n",
              "      border-right-color: var(--fill-color);\n",
              "      border-top-color: var(--fill-color);\n",
              "    }\n",
              "    60% {\n",
              "      border-color: transparent;\n",
              "      border-right-color: var(--fill-color);\n",
              "    }\n",
              "    80% {\n",
              "      border-color: transparent;\n",
              "      border-right-color: var(--fill-color);\n",
              "      border-bottom-color: var(--fill-color);\n",
              "    }\n",
              "    90% {\n",
              "      border-color: transparent;\n",
              "      border-bottom-color: var(--fill-color);\n",
              "    }\n",
              "  }\n",
              "</style>\n",
              "\n",
              "  <script>\n",
              "    async function quickchart(key) {\n",
              "      const quickchartButtonEl =\n",
              "        document.querySelector('#' + key + ' button');\n",
              "      quickchartButtonEl.disabled = true;  // To prevent multiple clicks.\n",
              "      quickchartButtonEl.classList.add('colab-df-spinner');\n",
              "      try {\n",
              "        const charts = await google.colab.kernel.invokeFunction(\n",
              "            'suggestCharts', [key], {});\n",
              "      } catch (error) {\n",
              "        console.error('Error during call to suggestCharts:', error);\n",
              "      }\n",
              "      quickchartButtonEl.classList.remove('colab-df-spinner');\n",
              "      quickchartButtonEl.classList.add('colab-df-quickchart-complete');\n",
              "    }\n",
              "    (() => {\n",
              "      let quickchartButtonEl =\n",
              "        document.querySelector('#df-af1dcc24-318e-4072-974a-f86999de2f9c button');\n",
              "      quickchartButtonEl.style.display =\n",
              "        google.colab.kernel.accessAllowed ? 'block' : 'none';\n",
              "    })();\n",
              "  </script>\n",
              "</div>\n",
              "\n",
              "    </div>\n",
              "  </div>\n"
            ],
            "application/vnd.google.colaboratory.intrinsic+json": {
              "type": "dataframe",
              "variable_name": "test_set",
              "summary": "{\n  \"name\": \"test_set\",\n  \"rows\": 418,\n  \"fields\": [\n    {\n      \"column\": \"Age\",\n      \"properties\": {\n        \"dtype\": \"number\",\n        \"std\": 0.1675296036704903,\n        \"min\": 0.0,\n        \"max\": 1.0,\n        \"num_unique_values\": 79,\n        \"samples\": [\n          0.12963207173941713,\n          0.45272319662402744,\n          0.43294210734537786\n        ],\n        \"semantic_type\": \"\",\n        \"description\": \"\"\n      }\n    },\n    {\n      \"column\": \"SibSp\",\n      \"properties\": {\n        \"dtype\": \"number\",\n        \"std\": 0.11209494514021419,\n        \"min\": 0.0,\n        \"max\": 1.0,\n        \"num_unique_values\": 7,\n        \"samples\": [\n          0.0,\n          0.125,\n          0.625\n        ],\n        \"semantic_type\": \"\",\n        \"description\": \"\"\n      }\n    },\n    {\n      \"column\": \"Parch\",\n      \"properties\": {\n        \"dtype\": \"number\",\n        \"std\": 0.10904765317079655,\n        \"min\": 0.0,\n        \"max\": 1.0,\n        \"num_unique_values\": 8,\n        \"samples\": [\n          0.1111111111111111,\n          0.6666666666666666,\n          0.0\n        ],\n        \"semantic_type\": \"\",\n        \"description\": \"\"\n      }\n    },\n    {\n      \"column\": \"Fare\",\n      \"properties\": {\n        \"dtype\": \"number\",\n        \"std\": 0.10901214042469853,\n        \"min\": 0.0,\n        \"max\": 1.0,\n        \"num_unique_values\": 169,\n        \"samples\": [\n          0.08115719346076702,\n          0.11272049299551928,\n          0.0535706338814965\n        ],\n        \"semantic_type\": \"\",\n        \"description\": \"\"\n      }\n    },\n    {\n      \"column\": \"Pclass_1\",\n      \"properties\": {\n        \"dtype\": \"boolean\",\n        \"num_unique_values\": 2,\n        \"samples\": [\n          true,\n          false\n        ],\n        \"semantic_type\": \"\",\n        \"description\": \"\"\n      }\n    },\n    {\n      \"column\": \"Pclass_2\",\n      \"properties\": {\n        \"dtype\": \"boolean\",\n        \"num_unique_values\": 2,\n        \"samples\": [\n          true,\n          false\n        ],\n        \"semantic_type\": \"\",\n        \"description\": \"\"\n      }\n    },\n    {\n      \"column\": \"Pclass_3\",\n      \"properties\": {\n        \"dtype\": \"boolean\",\n        \"num_unique_values\": 2,\n        \"samples\": [\n          false,\n          true\n        ],\n        \"semantic_type\": \"\",\n        \"description\": \"\"\n      }\n    },\n    {\n      \"column\": \"Sex_female\",\n      \"properties\": {\n        \"dtype\": \"boolean\",\n        \"num_unique_values\": 2,\n        \"samples\": [\n          true,\n          false\n        ],\n        \"semantic_type\": \"\",\n        \"description\": \"\"\n      }\n    },\n    {\n      \"column\": \"Sex_male\",\n      \"properties\": {\n        \"dtype\": \"boolean\",\n        \"num_unique_values\": 2,\n        \"samples\": [\n          false,\n          true\n        ],\n        \"semantic_type\": \"\",\n        \"description\": \"\"\n      }\n    },\n    {\n      \"column\": \"Embarked_C\",\n      \"properties\": {\n        \"dtype\": \"boolean\",\n        \"num_unique_values\": 2,\n        \"samples\": [\n          true,\n          false\n        ],\n        \"semantic_type\": \"\",\n        \"description\": \"\"\n      }\n    },\n    {\n      \"column\": \"Embarked_Q\",\n      \"properties\": {\n        \"dtype\": \"boolean\",\n        \"num_unique_values\": 2,\n        \"samples\": [\n          false,\n          true\n        ],\n        \"semantic_type\": \"\",\n        \"description\": \"\"\n      }\n    },\n    {\n      \"column\": \"Embarked_S\",\n      \"properties\": {\n        \"dtype\": \"boolean\",\n        \"num_unique_values\": 2,\n        \"samples\": [\n          true,\n          false\n        ],\n        \"semantic_type\": \"\",\n        \"description\": \"\"\n      }\n    }\n  ]\n}"
            }
          },
          "metadata": {},
          "execution_count": 24
        }
      ],
      "source": [
        "test_set.head()"
      ]
    },
    {
      "cell_type": "code",
      "execution_count": null,
      "metadata": {
        "id": "JO0aah18Cs47",
        "colab": {
          "base_uri": "https://localhost:8080/",
          "height": 206
        },
        "outputId": "00a8576b-c4c3-485e-a2dc-58f4ed6ff215"
      },
      "outputs": [
        {
          "output_type": "execute_result",
          "data": {
            "text/plain": [
              "   Survived       Age  SibSp  Parch      Fare  Pclass_1  Pclass_2  Pclass_3  \\\n",
              "0         0  0.287881  0.125    0.0  0.014151     False     False      True   \n",
              "1         1  0.498879  0.125    0.0  0.139136      True     False     False   \n",
              "2         1  0.340630  0.000    0.0  0.015469     False     False      True   \n",
              "3         1  0.459317  0.125    0.0  0.103644      True     False     False   \n",
              "4         0  0.459317  0.000    0.0  0.015713     False     False      True   \n",
              "\n",
              "   Sex_female  Sex_male  Embarked_C  Embarked_Q  Embarked_S  \n",
              "0       False      True       False       False        True  \n",
              "1        True     False        True       False       False  \n",
              "2        True     False       False       False        True  \n",
              "3        True     False       False       False        True  \n",
              "4       False      True       False       False        True  "
            ],
            "text/html": [
              "\n",
              "  <div id=\"df-4fb8aa8d-f1c1-4018-aff9-f32edd0ce662\" class=\"colab-df-container\">\n",
              "    <div>\n",
              "<style scoped>\n",
              "    .dataframe tbody tr th:only-of-type {\n",
              "        vertical-align: middle;\n",
              "    }\n",
              "\n",
              "    .dataframe tbody tr th {\n",
              "        vertical-align: top;\n",
              "    }\n",
              "\n",
              "    .dataframe thead th {\n",
              "        text-align: right;\n",
              "    }\n",
              "</style>\n",
              "<table border=\"1\" class=\"dataframe\">\n",
              "  <thead>\n",
              "    <tr style=\"text-align: right;\">\n",
              "      <th></th>\n",
              "      <th>Survived</th>\n",
              "      <th>Age</th>\n",
              "      <th>SibSp</th>\n",
              "      <th>Parch</th>\n",
              "      <th>Fare</th>\n",
              "      <th>Pclass_1</th>\n",
              "      <th>Pclass_2</th>\n",
              "      <th>Pclass_3</th>\n",
              "      <th>Sex_female</th>\n",
              "      <th>Sex_male</th>\n",
              "      <th>Embarked_C</th>\n",
              "      <th>Embarked_Q</th>\n",
              "      <th>Embarked_S</th>\n",
              "    </tr>\n",
              "  </thead>\n",
              "  <tbody>\n",
              "    <tr>\n",
              "      <th>0</th>\n",
              "      <td>0</td>\n",
              "      <td>0.287881</td>\n",
              "      <td>0.125</td>\n",
              "      <td>0.0</td>\n",
              "      <td>0.014151</td>\n",
              "      <td>False</td>\n",
              "      <td>False</td>\n",
              "      <td>True</td>\n",
              "      <td>False</td>\n",
              "      <td>True</td>\n",
              "      <td>False</td>\n",
              "      <td>False</td>\n",
              "      <td>True</td>\n",
              "    </tr>\n",
              "    <tr>\n",
              "      <th>1</th>\n",
              "      <td>1</td>\n",
              "      <td>0.498879</td>\n",
              "      <td>0.125</td>\n",
              "      <td>0.0</td>\n",
              "      <td>0.139136</td>\n",
              "      <td>True</td>\n",
              "      <td>False</td>\n",
              "      <td>False</td>\n",
              "      <td>True</td>\n",
              "      <td>False</td>\n",
              "      <td>True</td>\n",
              "      <td>False</td>\n",
              "      <td>False</td>\n",
              "    </tr>\n",
              "    <tr>\n",
              "      <th>2</th>\n",
              "      <td>1</td>\n",
              "      <td>0.340630</td>\n",
              "      <td>0.000</td>\n",
              "      <td>0.0</td>\n",
              "      <td>0.015469</td>\n",
              "      <td>False</td>\n",
              "      <td>False</td>\n",
              "      <td>True</td>\n",
              "      <td>True</td>\n",
              "      <td>False</td>\n",
              "      <td>False</td>\n",
              "      <td>False</td>\n",
              "      <td>True</td>\n",
              "    </tr>\n",
              "    <tr>\n",
              "      <th>3</th>\n",
              "      <td>1</td>\n",
              "      <td>0.459317</td>\n",
              "      <td>0.125</td>\n",
              "      <td>0.0</td>\n",
              "      <td>0.103644</td>\n",
              "      <td>True</td>\n",
              "      <td>False</td>\n",
              "      <td>False</td>\n",
              "      <td>True</td>\n",
              "      <td>False</td>\n",
              "      <td>False</td>\n",
              "      <td>False</td>\n",
              "      <td>True</td>\n",
              "    </tr>\n",
              "    <tr>\n",
              "      <th>4</th>\n",
              "      <td>0</td>\n",
              "      <td>0.459317</td>\n",
              "      <td>0.000</td>\n",
              "      <td>0.0</td>\n",
              "      <td>0.015713</td>\n",
              "      <td>False</td>\n",
              "      <td>False</td>\n",
              "      <td>True</td>\n",
              "      <td>False</td>\n",
              "      <td>True</td>\n",
              "      <td>False</td>\n",
              "      <td>False</td>\n",
              "      <td>True</td>\n",
              "    </tr>\n",
              "  </tbody>\n",
              "</table>\n",
              "</div>\n",
              "    <div class=\"colab-df-buttons\">\n",
              "\n",
              "  <div class=\"colab-df-container\">\n",
              "    <button class=\"colab-df-convert\" onclick=\"convertToInteractive('df-4fb8aa8d-f1c1-4018-aff9-f32edd0ce662')\"\n",
              "            title=\"Convert this dataframe to an interactive table.\"\n",
              "            style=\"display:none;\">\n",
              "\n",
              "  <svg xmlns=\"http://www.w3.org/2000/svg\" height=\"24px\" viewBox=\"0 -960 960 960\">\n",
              "    <path d=\"M120-120v-720h720v720H120Zm60-500h600v-160H180v160Zm220 220h160v-160H400v160Zm0 220h160v-160H400v160ZM180-400h160v-160H180v160Zm440 0h160v-160H620v160ZM180-180h160v-160H180v160Zm440 0h160v-160H620v160Z\"/>\n",
              "  </svg>\n",
              "    </button>\n",
              "\n",
              "  <style>\n",
              "    .colab-df-container {\n",
              "      display:flex;\n",
              "      gap: 12px;\n",
              "    }\n",
              "\n",
              "    .colab-df-convert {\n",
              "      background-color: #E8F0FE;\n",
              "      border: none;\n",
              "      border-radius: 50%;\n",
              "      cursor: pointer;\n",
              "      display: none;\n",
              "      fill: #1967D2;\n",
              "      height: 32px;\n",
              "      padding: 0 0 0 0;\n",
              "      width: 32px;\n",
              "    }\n",
              "\n",
              "    .colab-df-convert:hover {\n",
              "      background-color: #E2EBFA;\n",
              "      box-shadow: 0px 1px 2px rgba(60, 64, 67, 0.3), 0px 1px 3px 1px rgba(60, 64, 67, 0.15);\n",
              "      fill: #174EA6;\n",
              "    }\n",
              "\n",
              "    .colab-df-buttons div {\n",
              "      margin-bottom: 4px;\n",
              "    }\n",
              "\n",
              "    [theme=dark] .colab-df-convert {\n",
              "      background-color: #3B4455;\n",
              "      fill: #D2E3FC;\n",
              "    }\n",
              "\n",
              "    [theme=dark] .colab-df-convert:hover {\n",
              "      background-color: #434B5C;\n",
              "      box-shadow: 0px 1px 3px 1px rgba(0, 0, 0, 0.15);\n",
              "      filter: drop-shadow(0px 1px 2px rgba(0, 0, 0, 0.3));\n",
              "      fill: #FFFFFF;\n",
              "    }\n",
              "  </style>\n",
              "\n",
              "    <script>\n",
              "      const buttonEl =\n",
              "        document.querySelector('#df-4fb8aa8d-f1c1-4018-aff9-f32edd0ce662 button.colab-df-convert');\n",
              "      buttonEl.style.display =\n",
              "        google.colab.kernel.accessAllowed ? 'block' : 'none';\n",
              "\n",
              "      async function convertToInteractive(key) {\n",
              "        const element = document.querySelector('#df-4fb8aa8d-f1c1-4018-aff9-f32edd0ce662');\n",
              "        const dataTable =\n",
              "          await google.colab.kernel.invokeFunction('convertToInteractive',\n",
              "                                                    [key], {});\n",
              "        if (!dataTable) return;\n",
              "\n",
              "        const docLinkHtml = 'Like what you see? Visit the ' +\n",
              "          '<a target=\"_blank\" href=https://colab.research.google.com/notebooks/data_table.ipynb>data table notebook</a>'\n",
              "          + ' to learn more about interactive tables.';\n",
              "        element.innerHTML = '';\n",
              "        dataTable['output_type'] = 'display_data';\n",
              "        await google.colab.output.renderOutput(dataTable, element);\n",
              "        const docLink = document.createElement('div');\n",
              "        docLink.innerHTML = docLinkHtml;\n",
              "        element.appendChild(docLink);\n",
              "      }\n",
              "    </script>\n",
              "  </div>\n",
              "\n",
              "\n",
              "<div id=\"df-c786ba80-38af-4828-a1a6-4da2f70f2ce7\">\n",
              "  <button class=\"colab-df-quickchart\" onclick=\"quickchart('df-c786ba80-38af-4828-a1a6-4da2f70f2ce7')\"\n",
              "            title=\"Suggest charts\"\n",
              "            style=\"display:none;\">\n",
              "\n",
              "<svg xmlns=\"http://www.w3.org/2000/svg\" height=\"24px\"viewBox=\"0 0 24 24\"\n",
              "     width=\"24px\">\n",
              "    <g>\n",
              "        <path d=\"M19 3H5c-1.1 0-2 .9-2 2v14c0 1.1.9 2 2 2h14c1.1 0 2-.9 2-2V5c0-1.1-.9-2-2-2zM9 17H7v-7h2v7zm4 0h-2V7h2v10zm4 0h-2v-4h2v4z\"/>\n",
              "    </g>\n",
              "</svg>\n",
              "  </button>\n",
              "\n",
              "<style>\n",
              "  .colab-df-quickchart {\n",
              "      --bg-color: #E8F0FE;\n",
              "      --fill-color: #1967D2;\n",
              "      --hover-bg-color: #E2EBFA;\n",
              "      --hover-fill-color: #174EA6;\n",
              "      --disabled-fill-color: #AAA;\n",
              "      --disabled-bg-color: #DDD;\n",
              "  }\n",
              "\n",
              "  [theme=dark] .colab-df-quickchart {\n",
              "      --bg-color: #3B4455;\n",
              "      --fill-color: #D2E3FC;\n",
              "      --hover-bg-color: #434B5C;\n",
              "      --hover-fill-color: #FFFFFF;\n",
              "      --disabled-bg-color: #3B4455;\n",
              "      --disabled-fill-color: #666;\n",
              "  }\n",
              "\n",
              "  .colab-df-quickchart {\n",
              "    background-color: var(--bg-color);\n",
              "    border: none;\n",
              "    border-radius: 50%;\n",
              "    cursor: pointer;\n",
              "    display: none;\n",
              "    fill: var(--fill-color);\n",
              "    height: 32px;\n",
              "    padding: 0;\n",
              "    width: 32px;\n",
              "  }\n",
              "\n",
              "  .colab-df-quickchart:hover {\n",
              "    background-color: var(--hover-bg-color);\n",
              "    box-shadow: 0 1px 2px rgba(60, 64, 67, 0.3), 0 1px 3px 1px rgba(60, 64, 67, 0.15);\n",
              "    fill: var(--button-hover-fill-color);\n",
              "  }\n",
              "\n",
              "  .colab-df-quickchart-complete:disabled,\n",
              "  .colab-df-quickchart-complete:disabled:hover {\n",
              "    background-color: var(--disabled-bg-color);\n",
              "    fill: var(--disabled-fill-color);\n",
              "    box-shadow: none;\n",
              "  }\n",
              "\n",
              "  .colab-df-spinner {\n",
              "    border: 2px solid var(--fill-color);\n",
              "    border-color: transparent;\n",
              "    border-bottom-color: var(--fill-color);\n",
              "    animation:\n",
              "      spin 1s steps(1) infinite;\n",
              "  }\n",
              "\n",
              "  @keyframes spin {\n",
              "    0% {\n",
              "      border-color: transparent;\n",
              "      border-bottom-color: var(--fill-color);\n",
              "      border-left-color: var(--fill-color);\n",
              "    }\n",
              "    20% {\n",
              "      border-color: transparent;\n",
              "      border-left-color: var(--fill-color);\n",
              "      border-top-color: var(--fill-color);\n",
              "    }\n",
              "    30% {\n",
              "      border-color: transparent;\n",
              "      border-left-color: var(--fill-color);\n",
              "      border-top-color: var(--fill-color);\n",
              "      border-right-color: var(--fill-color);\n",
              "    }\n",
              "    40% {\n",
              "      border-color: transparent;\n",
              "      border-right-color: var(--fill-color);\n",
              "      border-top-color: var(--fill-color);\n",
              "    }\n",
              "    60% {\n",
              "      border-color: transparent;\n",
              "      border-right-color: var(--fill-color);\n",
              "    }\n",
              "    80% {\n",
              "      border-color: transparent;\n",
              "      border-right-color: var(--fill-color);\n",
              "      border-bottom-color: var(--fill-color);\n",
              "    }\n",
              "    90% {\n",
              "      border-color: transparent;\n",
              "      border-bottom-color: var(--fill-color);\n",
              "    }\n",
              "  }\n",
              "</style>\n",
              "\n",
              "  <script>\n",
              "    async function quickchart(key) {\n",
              "      const quickchartButtonEl =\n",
              "        document.querySelector('#' + key + ' button');\n",
              "      quickchartButtonEl.disabled = true;  // To prevent multiple clicks.\n",
              "      quickchartButtonEl.classList.add('colab-df-spinner');\n",
              "      try {\n",
              "        const charts = await google.colab.kernel.invokeFunction(\n",
              "            'suggestCharts', [key], {});\n",
              "      } catch (error) {\n",
              "        console.error('Error during call to suggestCharts:', error);\n",
              "      }\n",
              "      quickchartButtonEl.classList.remove('colab-df-spinner');\n",
              "      quickchartButtonEl.classList.add('colab-df-quickchart-complete');\n",
              "    }\n",
              "    (() => {\n",
              "      let quickchartButtonEl =\n",
              "        document.querySelector('#df-c786ba80-38af-4828-a1a6-4da2f70f2ce7 button');\n",
              "      quickchartButtonEl.style.display =\n",
              "        google.colab.kernel.accessAllowed ? 'block' : 'none';\n",
              "    })();\n",
              "  </script>\n",
              "</div>\n",
              "\n",
              "    </div>\n",
              "  </div>\n"
            ],
            "application/vnd.google.colaboratory.intrinsic+json": {
              "type": "dataframe",
              "variable_name": "train_set",
              "summary": "{\n  \"name\": \"train_set\",\n  \"rows\": 891,\n  \"fields\": [\n    {\n      \"column\": \"Survived\",\n      \"properties\": {\n        \"dtype\": \"number\",\n        \"std\": 0,\n        \"min\": 0,\n        \"max\": 1,\n        \"num_unique_values\": 2,\n        \"samples\": [\n          1,\n          0\n        ],\n        \"semantic_type\": \"\",\n        \"description\": \"\"\n      }\n    },\n    {\n      \"column\": \"Age\",\n      \"properties\": {\n        \"dtype\": \"number\",\n        \"std\": 0.17169585323715156,\n        \"min\": 0.0032968482131082682,\n        \"max\": 1.0527495714097324,\n        \"num_unique_values\": 88,\n        \"samples\": [\n          0.007648687854411184,\n          0.287880785968614\n        ],\n        \"semantic_type\": \"\",\n        \"description\": \"\"\n      }\n    },\n    {\n      \"column\": \"SibSp\",\n      \"properties\": {\n        \"dtype\": \"number\",\n        \"std\": 0.13784292903667897,\n        \"min\": 0.0,\n        \"max\": 1.0,\n        \"num_unique_values\": 7,\n        \"samples\": [\n          0.125,\n          0.0\n        ],\n        \"semantic_type\": \"\",\n        \"description\": \"\"\n      }\n    },\n    {\n      \"column\": \"Parch\",\n      \"properties\": {\n        \"dtype\": \"number\",\n        \"std\": 0.08956191345888315,\n        \"min\": 0.0,\n        \"max\": 0.6666666666666666,\n        \"num_unique_values\": 7,\n        \"samples\": [\n          0.0,\n          0.1111111111111111\n        ],\n        \"semantic_type\": \"\",\n        \"description\": \"\"\n      }\n    },\n    {\n      \"column\": \"Fare\",\n      \"properties\": {\n        \"dtype\": \"number\",\n        \"std\": 0.09699511290236998,\n        \"min\": 0.0,\n        \"max\": 1.0,\n        \"num_unique_values\": 248,\n        \"samples\": [\n          0.021942337075458514,\n          0.10122885832000206\n        ],\n        \"semantic_type\": \"\",\n        \"description\": \"\"\n      }\n    },\n    {\n      \"column\": \"Pclass_1\",\n      \"properties\": {\n        \"dtype\": \"boolean\",\n        \"num_unique_values\": 2,\n        \"samples\": [\n          true,\n          false\n        ],\n        \"semantic_type\": \"\",\n        \"description\": \"\"\n      }\n    },\n    {\n      \"column\": \"Pclass_2\",\n      \"properties\": {\n        \"dtype\": \"boolean\",\n        \"num_unique_values\": 2,\n        \"samples\": [\n          true,\n          false\n        ],\n        \"semantic_type\": \"\",\n        \"description\": \"\"\n      }\n    },\n    {\n      \"column\": \"Pclass_3\",\n      \"properties\": {\n        \"dtype\": \"boolean\",\n        \"num_unique_values\": 2,\n        \"samples\": [\n          false,\n          true\n        ],\n        \"semantic_type\": \"\",\n        \"description\": \"\"\n      }\n    },\n    {\n      \"column\": \"Sex_female\",\n      \"properties\": {\n        \"dtype\": \"boolean\",\n        \"num_unique_values\": 2,\n        \"samples\": [\n          true,\n          false\n        ],\n        \"semantic_type\": \"\",\n        \"description\": \"\"\n      }\n    },\n    {\n      \"column\": \"Sex_male\",\n      \"properties\": {\n        \"dtype\": \"boolean\",\n        \"num_unique_values\": 2,\n        \"samples\": [\n          false,\n          true\n        ],\n        \"semantic_type\": \"\",\n        \"description\": \"\"\n      }\n    },\n    {\n      \"column\": \"Embarked_C\",\n      \"properties\": {\n        \"dtype\": \"boolean\",\n        \"num_unique_values\": 2,\n        \"samples\": [\n          true,\n          false\n        ],\n        \"semantic_type\": \"\",\n        \"description\": \"\"\n      }\n    },\n    {\n      \"column\": \"Embarked_Q\",\n      \"properties\": {\n        \"dtype\": \"boolean\",\n        \"num_unique_values\": 2,\n        \"samples\": [\n          true,\n          false\n        ],\n        \"semantic_type\": \"\",\n        \"description\": \"\"\n      }\n    },\n    {\n      \"column\": \"Embarked_S\",\n      \"properties\": {\n        \"dtype\": \"boolean\",\n        \"num_unique_values\": 2,\n        \"samples\": [\n          false,\n          true\n        ],\n        \"semantic_type\": \"\",\n        \"description\": \"\"\n      }\n    }\n  ]\n}"
            }
          },
          "metadata": {},
          "execution_count": 25
        }
      ],
      "source": [
        "train_set.head()"
      ]
    },
    {
      "cell_type": "markdown",
      "metadata": {
        "id": "E5MUSmjZ8FbU"
      },
      "source": [
        "## **Análise Experimental**\n",
        "---"
      ]
    },
    {
      "cell_type": "markdown",
      "metadata": {
        "id": "WLWzNOCb795N"
      },
      "source": [
        "Para treinar a Rede Neural utilizando o método MLPClassifier da biblioteca `sklearn.neural_network`, seguimos um processo bem definido que envolve as seguintes etapas: **Separação de Sets, Treinamento / Teste de Modelos e Validação.**"
      ]
    },
    {
      "cell_type": "markdown",
      "metadata": {
        "id": "_R5vGrQuZUC1"
      },
      "source": [
        "### **Separação de Sets**"
      ]
    },
    {
      "cell_type": "markdown",
      "metadata": {
        "id": "T3jm9J7xZxFZ"
      },
      "source": [
        "Primeiramente, dividimos o conjunto de treino (`train_set`) em `X_train`, `y_train`, `X_test` e `y_test`, utilizando o conjunto de teste original para a validação final."
      ]
    },
    {
      "cell_type": "code",
      "execution_count": null,
      "metadata": {
        "id": "736yq4nvZXPY"
      },
      "outputs": [],
      "source": [
        "# Separação dos dados\n",
        "y = train_set['Survived']\n",
        "X = train_set.drop(['Survived'], axis=1)\n",
        "X_train, X_test, y_train, y_test = train_test_split(X, y, test_size= 0.25, random_state=42)"
      ]
    },
    {
      "cell_type": "markdown",
      "metadata": {
        "id": "w2zMh2Jzh1oq"
      },
      "source": [
        "### **Treinamento / Teste de Modelos**"
      ]
    },
    {
      "cell_type": "markdown",
      "metadata": {
        "id": "CAZd4tbgh9Z_"
      },
      "source": [
        "Para realizar uma análise abrangente dos dados, treinamos a Rede Neural utilizando diferentes arquiteturas e parâmetros do MLPClassifier. As principais variáveis modificadas são:\n",
        "\n",
        "- **`hidden_layer_sizes`:** Número de neurônios na camada oculta, `default = (100,)`.\n",
        "- **`activation`:** Função de ativação para a camada oculta.\n",
        "  - `identity`: Função identidade, $f(x) = x$\n",
        "  - `logistic`: Função sigmóide logística, $f(x) = \\frac{1}{1 + e^{-x}}$\n",
        "  - `tanh`: Função tangente hiperbólica, $f(x) = tanh(x)$\n",
        "  - `relu`: Função unidade linear retificada, $f(x) = max(0,x)$\n",
        "- **`solver`:** Algoritmo de otimização dos pesos.\n",
        "  - `lbfgs`: Otimização na família dos métodos Quase-Newton.\n",
        "  - `sgd`: Gradiente Descendente Estocástico.\n",
        "  - `adam`: Algoritmo de otimização adaptativa.\n",
        "- **`learning_rate`:** Taxa de aprendizado para atualização de pesos, default= constant.\n",
        "  - `constant`: Taxa de aprendizado constante definida por `learning_rate_init`.\n",
        "  - `invscaling`: Diminui gradualmente a taxa de aprendizado em cada época `t` usando um expoente inverso de `power_t`. `effective_learning_rate` = `learning_rate_init` / pow(`t`, `power_t`).\n",
        "  - `adaptive`: Mantém a taxa de aprendizado constante enquanto o erro continua diminuindo. Se o erro não diminuir em pelo menos `tol` em duas épocas consecutivas, a taxa de aprendizado é dividida por `5`.\n",
        "- **`alpha`:** Força do termo de regularização L2, default= `0.0001`.\n",
        "\n",
        "Este método permite a experimentação e ajuste fino dos parâmetros para analisar o desempenho da Rede Neural."
      ]
    },
    {
      "cell_type": "markdown",
      "metadata": {
        "id": "fNVs7e0F18tT"
      },
      "source": [
        "A fim de treinar usando vários parâmetros diferentes, iremos modificar um a um nos treinos, seguindo a seguinte ordem:\n",
        "- Função e Otimizador\n",
        "- Taxa de Aprendizagem\n",
        "- Alpha\n",
        "- Camadas Escondidas\n",
        "\n",
        "Treinamos os modelos e fazemos um teste para descobrir quais são os mais efetivos entre eles. Fixamos os valores de `alpha`, `hidden_layers_sizes` e `learning_rate` para verificar quais são os resultados mais eficazes."
      ]
    },
    {
      "cell_type": "markdown",
      "source": [
        "Ao selecionar a métrica mais adequada para avaliar o desempenho da Rede Neural, temos as seguintes opções:\n",
        "\n",
        "\n",
        "*   **Acurácia:** medida pela relação entre quantidade de instâncias cuja predição equivale exatamente ao rótulo designado e a quantidade total de instâncias.\n",
        "\n",
        "\\begin{align}\\frac{TP+TF}{TP+TN+FP+FN}\\end{align}\n",
        "\n",
        "*   **Precisão:** mede a eficiência do modelo em prever positivos verdadeiros (TP) em relação à quantidade de positivos no geral. Apresenta valor 1 apenas quando a quantidade de falsos positivos (FP) é 0.\n",
        "\n",
        "\\begin{align}\\frac{TP}{TP+FP}\\end{align}\n",
        "\n",
        "*   **Recall:** mede a eficiência do modelo em prever positivos verdadeiros em relação à quantidade de positivos verdadeiros e falsos negativos (FN). Apresenta valor 1 apenas quando a quantidade de FN é 0.\n",
        "\n",
        "\\begin{align}\\frac{TP}{TP+FN}\\end{align}\n",
        "\n",
        "*   **F1 Score:** métrica que leva em conta tanto a precisão quanto o recall, sendo 1 apenas quando ambos também o são.\n",
        "\n",
        "\n",
        "\\begin{align}2*\\frac{Precision*Recall}{Precision+Recall}\\end{align}\n",
        "\n"
      ],
      "metadata": {
        "id": "Zsy8pC9qzHKN"
      }
    },
    {
      "cell_type": "markdown",
      "source": [
        "A acurácia, apesar de fornecer uma visão geral sobre os acertos do modelo, pode ser enganosa caso a base de dados não seja balanceada. Dessa forma, vamos avaliar o conjunto de treino:"
      ],
      "metadata": {
        "id": "Zmz-wzId7a-Q"
      }
    },
    {
      "cell_type": "code",
      "source": [
        "train_set['Survived'].value_counts().plot(kind = 'bar')\n",
        "train_set['Survived'].value_counts(normalize=True)"
      ],
      "metadata": {
        "id": "pITEHBhY_JYn",
        "colab": {
          "base_uri": "https://localhost:8080/",
          "height": 513
        },
        "outputId": "e00e68f9-1b3f-4f60-b554-b41b389da9b0"
      },
      "execution_count": null,
      "outputs": [
        {
          "output_type": "execute_result",
          "data": {
            "text/plain": [
              "Survived\n",
              "0    0.616162\n",
              "1    0.383838\n",
              "Name: proportion, dtype: float64"
            ]
          },
          "metadata": {},
          "execution_count": 27
        },
        {
          "output_type": "display_data",
          "data": {
            "text/plain": [
              "<Figure size 640x480 with 1 Axes>"
            ],
            "image/png": "[encoded data removed]"
          },
          "metadata": {}
        }
      ]
    },
    {
      "cell_type": "markdown",
      "source": [
        "Note que o dataset apresenta uma taxa de sobrevivência de, aproximadamente, 40%. É possível considerá-lo balanceado, já que a diferença não é tão gritante. Por isso, utilizaremos a acurácia como métrica principal para avaliação. Ainda assim, calcularemos o F1 Score para fins de análise.\n",
        "\n",
        "Desta forma, ao invés de testarmos todos os casos, focaremos apenas nas que mostrarem melhores resultados."
      ],
      "metadata": {
        "id": "Rjj4GKBZBxw6"
      }
    },
    {
      "cell_type": "code",
      "execution_count": null,
      "metadata": {
        "id": "sgscRrPNh8s1",
        "colab": {
          "base_uri": "https://localhost:8080/"
        },
        "outputId": "24f404db-5484-45a5-8706-e044c72984ed"
      },
      "outputs": [
        {
          "output_type": "stream",
          "name": "stdout",
          "text": [
            "Solver - lbfgs\n",
            "--------------------------------------------------\n",
            "Function identity accuracy: 0.8026905829596412\n",
            "Function identity F1 Score: 0.744186046511628\n",
            "\n",
            "Function logistic accuracy: 0.7488789237668162\n",
            "Function logistic F1 Score: 0.6744186046511629\n",
            "\n",
            "Function tanh accuracy: 0.7623318385650224\n",
            "Function tanh F1 Score: 0.7039106145251396\n",
            "\n",
            "Function relu accuracy: 0.7623318385650224\n",
            "Function relu F1 Score: 0.6863905325443788\n",
            "\n",
            "\n",
            "Solver - sgd\n",
            "--------------------------------------------------\n",
            "Function identity accuracy: 0.7713004484304933\n",
            "Function identity F1 Score: 0.711864406779661\n",
            "\n",
            "Function logistic accuracy: 0.600896860986547\n",
            "Function logistic F1 Score: 0.0\n",
            "\n",
            "Function tanh accuracy: 0.7847533632286996\n",
            "Function tanh F1 Score: 0.7241379310344828\n",
            "\n",
            "Function relu accuracy: 0.7847533632286996\n",
            "Function relu F1 Score: 0.7176470588235295\n",
            "\n",
            "\n",
            "Solver - adam\n",
            "--------------------------------------------------\n",
            "Function identity accuracy: 0.8026905829596412\n",
            "Function identity F1 Score: 0.744186046511628\n",
            "\n",
            "Function logistic accuracy: 0.8116591928251121\n",
            "Function logistic F1 Score: 0.7439024390243902\n",
            "\n",
            "Function tanh accuracy: 0.820627802690583\n",
            "Function tanh F1 Score: 0.7530864197530865\n",
            "\n",
            "Function relu accuracy: 0.8340807174887892\n",
            "Function relu F1 Score: 0.7701863354037267\n",
            "\n",
            "\n"
          ]
        }
      ],
      "source": [
        "import warnings\n",
        "from sklearn.exceptions import ConvergenceWarning\n",
        "warnings.simplefilter('ignore', category=ConvergenceWarning)\n",
        "\n",
        "# Parâmetros de função de ativação\n",
        "lbfgs = {\n",
        "    'identity': MLPClassifier(hidden_layer_sizes=(50,50), max_iter=1200, activation='identity', solver='lbfgs', alpha=0.0001),\n",
        "    'logistic': MLPClassifier(hidden_layer_sizes=(50,50), max_iter=1200, activation='logistic', solver='lbfgs', alpha=0.0001),\n",
        "    'tanh': MLPClassifier(hidden_layer_sizes=(50,50), max_iter=1200, activation='tanh', solver='lbfgs', alpha=0.0001),\n",
        "    'relu': MLPClassifier(hidden_layer_sizes=(50,50), max_iter=1200, activation='relu', solver='lbfgs', alpha=0.0001)\n",
        "}\n",
        "\n",
        "adam = {\n",
        "    'identity': MLPClassifier(hidden_layer_sizes=(50,50), max_iter=1200, activation='identity', solver='adam', alpha=0.0001),\n",
        "    'logistic': MLPClassifier(hidden_layer_sizes=(50,50), max_iter=1200, activation='logistic', solver='adam', alpha=0.0001),\n",
        "    'tanh': MLPClassifier(hidden_layer_sizes=(50,50), max_iter=1200, activation='tanh', solver='adam', alpha=0.0001),\n",
        "    'relu': MLPClassifier(hidden_layer_sizes=(50,50), max_iter=1200, activation='relu', solver='adam', alpha=0.0001)\n",
        "}\n",
        "\n",
        "sgd = {\n",
        "    'identity': MLPClassifier(hidden_layer_sizes=(50,50), max_iter=1200, activation='identity', solver='sgd', alpha=0.0001),\n",
        "    'logistic': MLPClassifier(hidden_layer_sizes=(50,50), max_iter=1200, activation='logistic', solver='sgd', alpha=0.0001),\n",
        "    'tanh': MLPClassifier(hidden_layer_sizes=(50,50), max_iter=1200, activation='tanh', solver='sgd', alpha=0.0001),\n",
        "    'relu': MLPClassifier(hidden_layer_sizes=(50,50), max_iter=1200, activation='relu', solver='sgd', alpha=0.0001)\n",
        "}\n",
        "\n",
        "# Treinar modelos alternando a função de ativação\n",
        "print('Solver - lbfgs')\n",
        "print('-' * 50)\n",
        "for function, mlp in lbfgs.items():\n",
        "    mlp.fit(X_train, y_train)\n",
        "    y_pred = mlp.predict(X_test)\n",
        "    print(f'Function {function} accuracy: {accuracy_score(y_test, y_pred)}')\n",
        "    print(f'Function {function} F1 Score: {f1_score(y_test, y_pred)}\\n')\n",
        "print()\n",
        "\n",
        "print('Solver - sgd')\n",
        "print('-' * 50)\n",
        "for function, mlp in sgd.items():\n",
        "    mlp.fit(X_train, y_train)\n",
        "    y_pred = mlp.predict(X_test)\n",
        "    print(f'Function {function} accuracy: {accuracy_score(y_test, y_pred)}',)\n",
        "    print(f'Function {function} F1 Score: {f1_score(y_test, y_pred)}\\n')\n",
        "print()\n",
        "\n",
        "print('Solver - adam')\n",
        "print('-' * 50)\n",
        "for function, mlp in adam.items():\n",
        "    mlp.fit(X_train, y_train)\n",
        "    y_pred = mlp.predict(X_test)\n",
        "    print(f'Function {function} accuracy: {accuracy_score(y_test, y_pred)}')\n",
        "    print(f'Function {function} F1 Score: {f1_score(y_test, y_pred)}\\n')\n",
        "print()"
      ]
    },
    {
      "cell_type": "markdown",
      "source": [
        "Nota-se que, com exceção do algoritmo de otimização `sgd` com a função `logistic`, cujo F1 Score deu 0.0 - mostrando a má qualidade do modelo, algo que poderia ter passado em branco se apenas a acurácia fosse calculada -, todos os outros resultados apresentaram F1 Scores condizentes com sua acurácia."
      ],
      "metadata": {
        "id": "-PRgmeHMF51b"
      }
    },
    {
      "cell_type": "markdown",
      "metadata": {
        "id": "gjq1jkSnYNqH"
      },
      "source": [
        "No mais, verificamos que o algoritmo de otimização `adam` e as funções `tanh` e `relu` possuem as maiores acurácias. Em seguida, fixamos o `adam` e variamos as funções e a taxa de aprendizagem."
      ]
    },
    {
      "cell_type": "code",
      "execution_count": null,
      "metadata": {
        "id": "Ak47-V0JXICZ",
        "colab": {
          "base_uri": "https://localhost:8080/"
        },
        "outputId": "2aa3f80b-4e19-454d-9789-6b2fc0c1c071"
      },
      "outputs": [
        {
          "output_type": "stream",
          "name": "stdout",
          "text": [
            "Learning rate - invscaling\n",
            "--------------------------------------------------\n",
            "Function tanh accuracy: 0.820627802690583\n",
            "Function tanh f1 score: 0.7590361445783134\n",
            "\n",
            "Function relu accuracy: 0.820627802690583\n",
            "Function relu f1 score: 0.7499999999999999\n",
            "\n",
            "\n",
            "Learning rate - adaptive\n",
            "--------------------------------------------------\n",
            "Function tanh accuracy: 0.8071748878923767\n",
            "Function tanh f1 score: 0.7393939393939394\n",
            "\n",
            "Function relu accuracy: 0.820627802690583\n",
            "Function relu f1 score: 0.7560975609756098\n",
            "\n",
            "\n"
          ]
        }
      ],
      "source": [
        "# Parâmetros de taxa de aprendizagem\n",
        "invscaling = {\n",
        "    'tanh': MLPClassifier(hidden_layer_sizes=(50,50), max_iter=800, activation='tanh', solver='adam', alpha=0.0001, learning_rate='invscaling'),\n",
        "    'relu': MLPClassifier(hidden_layer_sizes=(50,50), max_iter=800, activation='relu', solver='adam', alpha=0.0001, learning_rate='invscaling')\n",
        "}\n",
        "\n",
        "adaptive = {\n",
        "    'tanh': MLPClassifier(hidden_layer_sizes=(50,50), max_iter=800, activation='tanh', solver='adam', alpha=0.0001, learning_rate='adaptive'),\n",
        "    'relu': MLPClassifier(hidden_layer_sizes=(50,50), max_iter=800, activation='relu', solver='adam', alpha=0.0001, learning_rate='adaptive')\n",
        "}\n",
        "\n",
        "# Treinar modelos alternando a taxa de aprendizagem\n",
        "print('Learning rate - invscaling')\n",
        "print('-' * 50)\n",
        "for function, mlp in invscaling.items():\n",
        "    mlp.fit(X_train, y_train)\n",
        "    y_pred = mlp.predict(X_test)\n",
        "    print(f'Function {function} accuracy: {accuracy_score(y_test, y_pred)}')\n",
        "    print(f'Function {function} f1 score: {f1_score(y_test, y_pred)}\\n')\n",
        "print()\n",
        "\n",
        "print('Learning rate - adaptive')\n",
        "print('-' * 50)\n",
        "for function, mlp in adaptive.items():\n",
        "    mlp.fit(X_train, y_train)\n",
        "    y_pred = mlp.predict(X_test)\n",
        "    print(f'Function {function} accuracy: {accuracy_score(y_test, y_pred)}')\n",
        "    print(f'Function {function} f1 score: {f1_score(y_test, y_pred)}\\n')\n",
        "print()"
      ]
    },
    {
      "cell_type": "markdown",
      "metadata": {
        "id": "Nyc4a5hYmbgL"
      },
      "source": [
        "Encontramos que a taxa de aprendizagem `constant` é a mais acurada entre todas. Portanto, fixamos esse valor e variamos o valor do `alpha`."
      ]
    },
    {
      "cell_type": "code",
      "execution_count": null,
      "metadata": {
        "id": "JNcFpoJtXXxx",
        "colab": {
          "base_uri": "https://localhost:8080/"
        },
        "outputId": "db11bec6-c3a4-479a-954b-8cf1f241b8a1"
      },
      "outputs": [
        {
          "output_type": "stream",
          "name": "stdout",
          "text": [
            "Alpha value\n",
            "--------------------------------------------------\n",
            "Alpha 0.01 accuracy: 0.820627802690583\n",
            "Alpha 0.01 f1 score: 0.761904761904762\n",
            "\n",
            "Alpha 0.001 accuracy: 0.7982062780269058\n",
            "Alpha 0.001 f1 score: 0.7272727272727273\n",
            "\n"
          ]
        }
      ],
      "source": [
        "# Parâmetros do alpha\n",
        "alpha = {\n",
        "    '0.01': MLPClassifier(hidden_layer_sizes=(50,50), max_iter=800, activation='relu', solver='adam', alpha=0.01, learning_rate='constant'),\n",
        "    '0.001': MLPClassifier(hidden_layer_sizes=(50,50), max_iter=800, activation='relu', solver='adam', alpha=0.001, learning_rate='constant')\n",
        "}\n",
        "\n",
        "# Treinar modelos alternando o 'alpha'\n",
        "print('Alpha value')\n",
        "print('-' * 50)\n",
        "for alpha, mlp in alpha.items():\n",
        "    mlp.fit(X_train, y_train)\n",
        "    y_pred = mlp.predict(X_test)\n",
        "    print(f'Alpha {alpha} accuracy: {accuracy_score(y_test, y_pred)}')\n",
        "    print(f'Alpha {alpha} f1 score: {f1_score(y_test, y_pred)}\\n')"
      ]
    },
    {
      "cell_type": "markdown",
      "metadata": {
        "id": "OpQKD4iPmq7d"
      },
      "source": [
        "Por fim, trocamos a quantidade de camadas de 2 para 1, apenas para verificar qual é mais acurada."
      ]
    },
    {
      "cell_type": "code",
      "execution_count": null,
      "metadata": {
        "id": "WK_h_5qR18TX",
        "colab": {
          "base_uri": "https://localhost:8080/"
        },
        "outputId": "6bd4e793-f58f-44e6-dbe6-38c42b741b5b"
      },
      "outputs": [
        {
          "output_type": "stream",
          "name": "stdout",
          "text": [
            "Accuracy: 0.820627802690583\n",
            "Precision: 0.8356164383561644\n",
            "Recall: 0.6853932584269663\n"
          ]
        }
      ],
      "source": [
        "import warnings\n",
        "from sklearn.exceptions import ConvergenceWarning\n",
        "warnings.simplefilter('ignore', category=ConvergenceWarning)\n",
        "\n",
        "mlp = MLPClassifier(hidden_layer_sizes=(100,), max_iter=800, activation='relu', solver='adam', alpha=0.01, learning_rate='constant')\n",
        "mlp.fit(X_train, y_train)\n",
        "y_pred = mlp.predict(X_test)\n",
        "\n",
        "print(f'Accuracy: {accuracy_score(y_test, y_pred)}')\n",
        "print(f'Precision: {precision_score(y_test, y_pred)}')\n",
        "print(f'Recall: {recall_score(y_test, y_pred)}')"
      ]
    },
    {
      "cell_type": "markdown",
      "metadata": {
        "id": "Q4y8IQ_mnDYx"
      },
      "source": [
        "Chegamos à conclusão, portanto, que a rede neural mais acurada para esse projeto possui os parâmetros:\n",
        "- **`alpha`:** 0.01\n",
        "- **`hidden_layer_sizes`:** (100,)\n",
        "- **`learning_rate`:** constant\n",
        "- **`activation`:** relu\n",
        "- **`solver`:** adam"
      ]
    },
    {
      "cell_type": "code",
      "execution_count": null,
      "metadata": {
        "id": "oI89GR3Rr7PX",
        "colab": {
          "base_uri": "https://localhost:8080/",
          "height": 545
        },
        "outputId": "844a38d1-031d-4212-93ae-441b358376b3"
      },
      "outputs": [
        {
          "output_type": "display_data",
          "data": {
            "text/plain": [
              "<Figure size 800x600 with 2 Axes>"
            ],
            "image/png": "[encoded data removed]"
          },
          "metadata": {}
        }
      ],
      "source": [
        "# Plotar a matriz de confusão\n",
        "cm = confusion_matrix(y_test, y_pred)\n",
        "cmap = sns.light_palette('skyblue', as_cmap=True)\n",
        "plt.figure(figsize=(8, 6))\n",
        "sns.heatmap(cm, square=True, cmap=cmap, annot=True, annot_kws={'size': 9}, linecolor='white', linewidths=0.01)\n",
        "plt.title('Heatmap of Confusion Matrix')\n",
        "plt.show()"
      ]
    }
  ],
  "metadata": {
    "colab": {
      "provenance": []
    },
    "kernelspec": {
      "display_name": "Python 3",
      "name": "python3"
    },
    "language_info": {
      "name": "python"
    }
  },
  "nbformat": 4,
  "nbformat_minor": 0
}